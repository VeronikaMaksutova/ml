{
  "nbformat": 4,
  "nbformat_minor": 0,
  "metadata": {
    "colab": {
      "provenance": []
    },
    "kernelspec": {
      "name": "python3",
      "display_name": "Python 3"
    },
    "language_info": {
      "name": "python"
    }
  },
  "cells": [
    {
      "cell_type": "markdown",
      "source": [
        "## Task 2"
      ],
      "metadata": {
        "id": "xGyJhypmeBpH"
      }
    },
    {
      "cell_type": "code",
      "execution_count": null,
      "metadata": {
        "id": "4ljk4msrd-uW"
      },
      "outputs": [],
      "source": [
        "def task2():\n",
        "  my_dict = {}\n",
        "  figure = input('Выберите фигуру: треугольник, круг, прямоугольник: ')\n",
        "  if figure == 'треугольник':\n",
        "    a = int(input('Введите длину основания: '))\n",
        "    b = int(input('Введите длину высоты: '))\n",
        "    my_dict['треугольник'] = a*b/2\n",
        "  if figure == 'круг':\n",
        "      a = int(input('Введите радиус: '))\n",
        "      my_dict['круг'] = 3.14*a**2\n",
        "  if figure == 'прямоугольник':\n",
        "      a = int(input('Введите длину одной стороны: '))\n",
        "      b = int(input('Введите длину другой стороны: '))\n",
        "      my_dict['прямоугольник'] = a*b\n",
        "  return my_dict"
      ]
    },
    {
      "cell_type": "code",
      "source": [
        "task2()"
      ],
      "metadata": {
        "colab": {
          "base_uri": "https://localhost:8080/"
        },
        "id": "qwi5kbocfLL9",
        "outputId": "ff08ec4b-5e10-4f4c-99ac-90e985fd42e7"
      },
      "execution_count": null,
      "outputs": [
        {
          "name": "stdout",
          "output_type": "stream",
          "text": [
            "Выберите фигуру: треугольник, круг, прямоугольник: круг\n",
            "Введите радиус: 5\n"
          ]
        },
        {
          "output_type": "execute_result",
          "data": {
            "text/plain": [
              "{'круг': 78.5}"
            ]
          },
          "metadata": {},
          "execution_count": 3
        }
      ]
    },
    {
      "cell_type": "markdown",
      "source": [
        "## Task 3"
      ],
      "metadata": {
        "id": "8-QSXjZXf3mX"
      }
    },
    {
      "cell_type": "code",
      "source": [
        "def task3(a, b, op):\n",
        "  if op == 'abs':\n",
        "    return abs(a)\n",
        "  try:\n",
        "    return eval(f'{a} {op} {b}')\n",
        "  except:\n",
        "    print(\"Error\")"
      ],
      "metadata": {
        "id": "xK3SMe2of66Z"
      },
      "execution_count": null,
      "outputs": []
    },
    {
      "cell_type": "code",
      "source": [
        "task3(3, 2, '*')"
      ],
      "metadata": {
        "colab": {
          "base_uri": "https://localhost:8080/"
        },
        "id": "aF-9a9X9jJHH",
        "outputId": "04ac3946-b727-4290-e417-3c4f03ff0954"
      },
      "execution_count": null,
      "outputs": [
        {
          "output_type": "execute_result",
          "data": {
            "text/plain": [
              "6"
            ]
          },
          "metadata": {},
          "execution_count": 20
        }
      ]
    },
    {
      "cell_type": "markdown",
      "source": [
        "## Task 4"
      ],
      "metadata": {
        "id": "I4T5J__FnUzT"
      }
    },
    {
      "cell_type": "code",
      "source": [
        "lst = []\n",
        "lst.append(int(input(\"Введите число: \")))\n",
        "while sum(lst) != 0:\n",
        "  lst.append(int(input(\"Введите число: \")))\n",
        "print(sum([x ** 2 for x in lst]))"
      ],
      "metadata": {
        "colab": {
          "base_uri": "https://localhost:8080/"
        },
        "id": "Q01VtwtgjfM-",
        "outputId": "dc99f1f3-28d0-4c39-c7da-c7a09325e9ff"
      },
      "execution_count": null,
      "outputs": [
        {
          "output_type": "stream",
          "name": "stdout",
          "text": [
            "Введите число: 5\n",
            "Введите число: -5\n",
            "50\n"
          ]
        }
      ]
    },
    {
      "cell_type": "markdown",
      "source": [
        "## Task 5"
      ],
      "metadata": {
        "id": "gy1bA58hnXqu"
      }
    },
    {
      "cell_type": "code",
      "source": [
        "a = int(input('Введите длину списка: '))\n",
        "lst = []\n",
        "k = 1\n",
        "while len(lst) < a:\n",
        "  lst.extend([int(x) for x in (str(k) * k)])\n",
        "  k+=1\n",
        "print(*lst[:a])"
      ],
      "metadata": {
        "colab": {
          "base_uri": "https://localhost:8080/"
        },
        "id": "WAevZmawmpRv",
        "outputId": "825bdc3c-1298-4ff0-dd99-780bee55fcd9"
      },
      "execution_count": null,
      "outputs": [
        {
          "output_type": "stream",
          "name": "stdout",
          "text": [
            "Введите длину списка: 10\n",
            "1 2 2 3 3 3 4 4 4 4\n"
          ]
        }
      ]
    },
    {
      "cell_type": "markdown",
      "source": [
        "## Task 6"
      ],
      "metadata": {
        "id": "qiWuxbdhquJc"
      }
    },
    {
      "cell_type": "code",
      "source": [
        "A = [1, 2, 3, 4, 2, 1, 3, 4, 5, 6, 5, 4, 3, 2]\n",
        "B = ['a', 'b', 'c', 'c', 'c', 'b', 'a', 'c', 'a', 'a', 'b', 'c', 'b', 'a']\n",
        "new_dict = {}\n",
        "for i, j in enumerate(B):\n",
        "    new_dict[j] = new_dict.get(j, 0) + A[i]\n",
        "new_dict"
      ],
      "metadata": {
        "colab": {
          "base_uri": "https://localhost:8080/"
        },
        "id": "KE9qEcCAo0-T",
        "outputId": "6fc113ad-e55e-4de5-f365-02186675b05b"
      },
      "execution_count": null,
      "outputs": [
        {
          "output_type": "execute_result",
          "data": {
            "text/plain": [
              "{'a': 17, 'b': 11, 'c': 17}"
            ]
          },
          "metadata": {},
          "execution_count": 35
        }
      ]
    },
    {
      "cell_type": "markdown",
      "source": [
        "## Task with data"
      ],
      "metadata": {
        "id": "a5O6pRg3r2m7"
      }
    },
    {
      "cell_type": "code",
      "source": [
        "from sklearn.datasets import fetch_california_housing\n",
        "import pandas as pd\n",
        "import numpy as np\n",
        "data = fetch_california_housing(as_frame = True)\n",
        "df = pd.DataFrame(data=data.data )"
      ],
      "metadata": {
        "id": "5rMbWYCJo77v"
      },
      "execution_count": null,
      "outputs": []
    },
    {
      "cell_type": "code",
      "source": [
        "df.info()"
      ],
      "metadata": {
        "colab": {
          "base_uri": "https://localhost:8080/"
        },
        "id": "xAKw3Ho6r8vb",
        "outputId": "2ccb96c5-aac1-46c8-ebee-073f7af76062"
      },
      "execution_count": null,
      "outputs": [
        {
          "output_type": "stream",
          "name": "stdout",
          "text": [
            "<class 'pandas.core.frame.DataFrame'>\n",
            "RangeIndex: 20640 entries, 0 to 20639\n",
            "Data columns (total 8 columns):\n",
            " #   Column      Non-Null Count  Dtype  \n",
            "---  ------      --------------  -----  \n",
            " 0   MedInc      20640 non-null  float64\n",
            " 1   HouseAge    20640 non-null  float64\n",
            " 2   AveRooms    20640 non-null  float64\n",
            " 3   AveBedrms   20640 non-null  float64\n",
            " 4   Population  20640 non-null  float64\n",
            " 5   AveOccup    20640 non-null  float64\n",
            " 6   Latitude    20640 non-null  float64\n",
            " 7   Longitude   20640 non-null  float64\n",
            "dtypes: float64(8)\n",
            "memory usage: 1.3 MB\n"
          ]
        }
      ]
    },
    {
      "cell_type": "code",
      "source": [
        "df.isna().sum()"
      ],
      "metadata": {
        "colab": {
          "base_uri": "https://localhost:8080/"
        },
        "id": "QBRpx_cjsAll",
        "outputId": "e1edb794-ac72-481c-f6c1-df10f9fcdc71"
      },
      "execution_count": null,
      "outputs": [
        {
          "output_type": "execute_result",
          "data": {
            "text/plain": [
              "MedInc        0\n",
              "HouseAge      0\n",
              "AveRooms      0\n",
              "AveBedrms     0\n",
              "Population    0\n",
              "AveOccup      0\n",
              "Latitude      0\n",
              "Longitude     0\n",
              "dtype: int64"
            ]
          },
          "metadata": {},
          "execution_count": 39
        }
      ]
    },
    {
      "cell_type": "code",
      "source": [
        "df.loc[(df['HouseAge'] > 50) & (df['Population'] > 2500)]"
      ],
      "metadata": {
        "colab": {
          "base_uri": "https://localhost:8080/",
          "height": 457
        },
        "id": "wY-s69B7sFYs",
        "outputId": "aae5a5cd-3f9e-4b73-f6aa-bf0538b369d5"
      },
      "execution_count": null,
      "outputs": [
        {
          "output_type": "execute_result",
          "data": {
            "text/plain": [
              "       MedInc  HouseAge  AveRooms  AveBedrms  Population    AveOccup  \\\n",
              "460    1.4012      52.0  3.105714   1.060000      3337.0    9.534286   \n",
              "4131   3.5349      52.0  4.646119   1.047945      2589.0    5.910959   \n",
              "4440   2.6806      52.0  4.806283   1.057592      3062.0    4.007853   \n",
              "5986   1.8750      52.0  4.500000   1.206349      2688.0   21.333333   \n",
              "7369   3.1901      52.0  4.730942   1.017937      3731.0    4.182735   \n",
              "8227   2.3305      52.0  3.488860   1.170380      3018.0    3.955439   \n",
              "13034  6.1359      52.0  8.275862   1.517241      6675.0  230.172414   \n",
              "15634  1.8295      52.0  2.628169   1.053521      2957.0    4.164789   \n",
              "15652  0.9000      52.0  2.237474   1.053535      3260.0    2.237474   \n",
              "15657  2.5166      52.0  2.839075   1.184049      3436.0    1.621520   \n",
              "15659  1.7240      52.0  2.278566   1.082348      4518.0    1.780142   \n",
              "15795  2.5755      52.0  3.402576   1.058776      2619.0    2.108696   \n",
              "15868  2.8135      52.0  4.584329   1.041169      2987.0    3.966799   \n",
              "\n",
              "       Latitude  Longitude  \n",
              "460       37.87    -122.26  \n",
              "4131      34.13    -118.20  \n",
              "4440      34.08    -118.21  \n",
              "5986      34.10    -117.71  \n",
              "7369      33.97    -118.21  \n",
              "8227      33.78    -118.20  \n",
              "13034     38.69    -121.15  \n",
              "15634     37.80    -122.41  \n",
              "15652     37.80    -122.41  \n",
              "15657     37.79    -122.41  \n",
              "15659     37.79    -122.41  \n",
              "15795     37.77    -122.42  \n",
              "15868     37.76    -122.41  "
            ],
            "text/html": [
              "\n",
              "  <div id=\"df-27924df4-5701-48fa-87ff-c24635992282\" class=\"colab-df-container\">\n",
              "    <div>\n",
              "<style scoped>\n",
              "    .dataframe tbody tr th:only-of-type {\n",
              "        vertical-align: middle;\n",
              "    }\n",
              "\n",
              "    .dataframe tbody tr th {\n",
              "        vertical-align: top;\n",
              "    }\n",
              "\n",
              "    .dataframe thead th {\n",
              "        text-align: right;\n",
              "    }\n",
              "</style>\n",
              "<table border=\"1\" class=\"dataframe\">\n",
              "  <thead>\n",
              "    <tr style=\"text-align: right;\">\n",
              "      <th></th>\n",
              "      <th>MedInc</th>\n",
              "      <th>HouseAge</th>\n",
              "      <th>AveRooms</th>\n",
              "      <th>AveBedrms</th>\n",
              "      <th>Population</th>\n",
              "      <th>AveOccup</th>\n",
              "      <th>Latitude</th>\n",
              "      <th>Longitude</th>\n",
              "    </tr>\n",
              "  </thead>\n",
              "  <tbody>\n",
              "    <tr>\n",
              "      <th>460</th>\n",
              "      <td>1.4012</td>\n",
              "      <td>52.0</td>\n",
              "      <td>3.105714</td>\n",
              "      <td>1.060000</td>\n",
              "      <td>3337.0</td>\n",
              "      <td>9.534286</td>\n",
              "      <td>37.87</td>\n",
              "      <td>-122.26</td>\n",
              "    </tr>\n",
              "    <tr>\n",
              "      <th>4131</th>\n",
              "      <td>3.5349</td>\n",
              "      <td>52.0</td>\n",
              "      <td>4.646119</td>\n",
              "      <td>1.047945</td>\n",
              "      <td>2589.0</td>\n",
              "      <td>5.910959</td>\n",
              "      <td>34.13</td>\n",
              "      <td>-118.20</td>\n",
              "    </tr>\n",
              "    <tr>\n",
              "      <th>4440</th>\n",
              "      <td>2.6806</td>\n",
              "      <td>52.0</td>\n",
              "      <td>4.806283</td>\n",
              "      <td>1.057592</td>\n",
              "      <td>3062.0</td>\n",
              "      <td>4.007853</td>\n",
              "      <td>34.08</td>\n",
              "      <td>-118.21</td>\n",
              "    </tr>\n",
              "    <tr>\n",
              "      <th>5986</th>\n",
              "      <td>1.8750</td>\n",
              "      <td>52.0</td>\n",
              "      <td>4.500000</td>\n",
              "      <td>1.206349</td>\n",
              "      <td>2688.0</td>\n",
              "      <td>21.333333</td>\n",
              "      <td>34.10</td>\n",
              "      <td>-117.71</td>\n",
              "    </tr>\n",
              "    <tr>\n",
              "      <th>7369</th>\n",
              "      <td>3.1901</td>\n",
              "      <td>52.0</td>\n",
              "      <td>4.730942</td>\n",
              "      <td>1.017937</td>\n",
              "      <td>3731.0</td>\n",
              "      <td>4.182735</td>\n",
              "      <td>33.97</td>\n",
              "      <td>-118.21</td>\n",
              "    </tr>\n",
              "    <tr>\n",
              "      <th>8227</th>\n",
              "      <td>2.3305</td>\n",
              "      <td>52.0</td>\n",
              "      <td>3.488860</td>\n",
              "      <td>1.170380</td>\n",
              "      <td>3018.0</td>\n",
              "      <td>3.955439</td>\n",
              "      <td>33.78</td>\n",
              "      <td>-118.20</td>\n",
              "    </tr>\n",
              "    <tr>\n",
              "      <th>13034</th>\n",
              "      <td>6.1359</td>\n",
              "      <td>52.0</td>\n",
              "      <td>8.275862</td>\n",
              "      <td>1.517241</td>\n",
              "      <td>6675.0</td>\n",
              "      <td>230.172414</td>\n",
              "      <td>38.69</td>\n",
              "      <td>-121.15</td>\n",
              "    </tr>\n",
              "    <tr>\n",
              "      <th>15634</th>\n",
              "      <td>1.8295</td>\n",
              "      <td>52.0</td>\n",
              "      <td>2.628169</td>\n",
              "      <td>1.053521</td>\n",
              "      <td>2957.0</td>\n",
              "      <td>4.164789</td>\n",
              "      <td>37.80</td>\n",
              "      <td>-122.41</td>\n",
              "    </tr>\n",
              "    <tr>\n",
              "      <th>15652</th>\n",
              "      <td>0.9000</td>\n",
              "      <td>52.0</td>\n",
              "      <td>2.237474</td>\n",
              "      <td>1.053535</td>\n",
              "      <td>3260.0</td>\n",
              "      <td>2.237474</td>\n",
              "      <td>37.80</td>\n",
              "      <td>-122.41</td>\n",
              "    </tr>\n",
              "    <tr>\n",
              "      <th>15657</th>\n",
              "      <td>2.5166</td>\n",
              "      <td>52.0</td>\n",
              "      <td>2.839075</td>\n",
              "      <td>1.184049</td>\n",
              "      <td>3436.0</td>\n",
              "      <td>1.621520</td>\n",
              "      <td>37.79</td>\n",
              "      <td>-122.41</td>\n",
              "    </tr>\n",
              "    <tr>\n",
              "      <th>15659</th>\n",
              "      <td>1.7240</td>\n",
              "      <td>52.0</td>\n",
              "      <td>2.278566</td>\n",
              "      <td>1.082348</td>\n",
              "      <td>4518.0</td>\n",
              "      <td>1.780142</td>\n",
              "      <td>37.79</td>\n",
              "      <td>-122.41</td>\n",
              "    </tr>\n",
              "    <tr>\n",
              "      <th>15795</th>\n",
              "      <td>2.5755</td>\n",
              "      <td>52.0</td>\n",
              "      <td>3.402576</td>\n",
              "      <td>1.058776</td>\n",
              "      <td>2619.0</td>\n",
              "      <td>2.108696</td>\n",
              "      <td>37.77</td>\n",
              "      <td>-122.42</td>\n",
              "    </tr>\n",
              "    <tr>\n",
              "      <th>15868</th>\n",
              "      <td>2.8135</td>\n",
              "      <td>52.0</td>\n",
              "      <td>4.584329</td>\n",
              "      <td>1.041169</td>\n",
              "      <td>2987.0</td>\n",
              "      <td>3.966799</td>\n",
              "      <td>37.76</td>\n",
              "      <td>-122.41</td>\n",
              "    </tr>\n",
              "  </tbody>\n",
              "</table>\n",
              "</div>\n",
              "    <div class=\"colab-df-buttons\">\n",
              "\n",
              "  <div class=\"colab-df-container\">\n",
              "    <button class=\"colab-df-convert\" onclick=\"convertToInteractive('df-27924df4-5701-48fa-87ff-c24635992282')\"\n",
              "            title=\"Convert this dataframe to an interactive table.\"\n",
              "            style=\"display:none;\">\n",
              "\n",
              "  <svg xmlns=\"http://www.w3.org/2000/svg\" height=\"24px\" viewBox=\"0 -960 960 960\">\n",
              "    <path d=\"M120-120v-720h720v720H120Zm60-500h600v-160H180v160Zm220 220h160v-160H400v160Zm0 220h160v-160H400v160ZM180-400h160v-160H180v160Zm440 0h160v-160H620v160ZM180-180h160v-160H180v160Zm440 0h160v-160H620v160Z\"/>\n",
              "  </svg>\n",
              "    </button>\n",
              "\n",
              "  <style>\n",
              "    .colab-df-container {\n",
              "      display:flex;\n",
              "      gap: 12px;\n",
              "    }\n",
              "\n",
              "    .colab-df-convert {\n",
              "      background-color: #E8F0FE;\n",
              "      border: none;\n",
              "      border-radius: 50%;\n",
              "      cursor: pointer;\n",
              "      display: none;\n",
              "      fill: #1967D2;\n",
              "      height: 32px;\n",
              "      padding: 0 0 0 0;\n",
              "      width: 32px;\n",
              "    }\n",
              "\n",
              "    .colab-df-convert:hover {\n",
              "      background-color: #E2EBFA;\n",
              "      box-shadow: 0px 1px 2px rgba(60, 64, 67, 0.3), 0px 1px 3px 1px rgba(60, 64, 67, 0.15);\n",
              "      fill: #174EA6;\n",
              "    }\n",
              "\n",
              "    .colab-df-buttons div {\n",
              "      margin-bottom: 4px;\n",
              "    }\n",
              "\n",
              "    [theme=dark] .colab-df-convert {\n",
              "      background-color: #3B4455;\n",
              "      fill: #D2E3FC;\n",
              "    }\n",
              "\n",
              "    [theme=dark] .colab-df-convert:hover {\n",
              "      background-color: #434B5C;\n",
              "      box-shadow: 0px 1px 3px 1px rgba(0, 0, 0, 0.15);\n",
              "      filter: drop-shadow(0px 1px 2px rgba(0, 0, 0, 0.3));\n",
              "      fill: #FFFFFF;\n",
              "    }\n",
              "  </style>\n",
              "\n",
              "    <script>\n",
              "      const buttonEl =\n",
              "        document.querySelector('#df-27924df4-5701-48fa-87ff-c24635992282 button.colab-df-convert');\n",
              "      buttonEl.style.display =\n",
              "        google.colab.kernel.accessAllowed ? 'block' : 'none';\n",
              "\n",
              "      async function convertToInteractive(key) {\n",
              "        const element = document.querySelector('#df-27924df4-5701-48fa-87ff-c24635992282');\n",
              "        const dataTable =\n",
              "          await google.colab.kernel.invokeFunction('convertToInteractive',\n",
              "                                                    [key], {});\n",
              "        if (!dataTable) return;\n",
              "\n",
              "        const docLinkHtml = 'Like what you see? Visit the ' +\n",
              "          '<a target=\"_blank\" href=https://colab.research.google.com/notebooks/data_table.ipynb>data table notebook</a>'\n",
              "          + ' to learn more about interactive tables.';\n",
              "        element.innerHTML = '';\n",
              "        dataTable['output_type'] = 'display_data';\n",
              "        await google.colab.output.renderOutput(dataTable, element);\n",
              "        const docLink = document.createElement('div');\n",
              "        docLink.innerHTML = docLinkHtml;\n",
              "        element.appendChild(docLink);\n",
              "      }\n",
              "    </script>\n",
              "  </div>\n",
              "\n",
              "\n",
              "<div id=\"df-aaecdd1c-9d3c-43c5-b220-2111343d5779\">\n",
              "  <button class=\"colab-df-quickchart\" onclick=\"quickchart('df-aaecdd1c-9d3c-43c5-b220-2111343d5779')\"\n",
              "            title=\"Suggest charts.\"\n",
              "            style=\"display:none;\">\n",
              "\n",
              "<svg xmlns=\"http://www.w3.org/2000/svg\" height=\"24px\"viewBox=\"0 0 24 24\"\n",
              "     width=\"24px\">\n",
              "    <g>\n",
              "        <path d=\"M19 3H5c-1.1 0-2 .9-2 2v14c0 1.1.9 2 2 2h14c1.1 0 2-.9 2-2V5c0-1.1-.9-2-2-2zM9 17H7v-7h2v7zm4 0h-2V7h2v10zm4 0h-2v-4h2v4z\"/>\n",
              "    </g>\n",
              "</svg>\n",
              "  </button>\n",
              "\n",
              "<style>\n",
              "  .colab-df-quickchart {\n",
              "      --bg-color: #E8F0FE;\n",
              "      --fill-color: #1967D2;\n",
              "      --hover-bg-color: #E2EBFA;\n",
              "      --hover-fill-color: #174EA6;\n",
              "      --disabled-fill-color: #AAA;\n",
              "      --disabled-bg-color: #DDD;\n",
              "  }\n",
              "\n",
              "  [theme=dark] .colab-df-quickchart {\n",
              "      --bg-color: #3B4455;\n",
              "      --fill-color: #D2E3FC;\n",
              "      --hover-bg-color: #434B5C;\n",
              "      --hover-fill-color: #FFFFFF;\n",
              "      --disabled-bg-color: #3B4455;\n",
              "      --disabled-fill-color: #666;\n",
              "  }\n",
              "\n",
              "  .colab-df-quickchart {\n",
              "    background-color: var(--bg-color);\n",
              "    border: none;\n",
              "    border-radius: 50%;\n",
              "    cursor: pointer;\n",
              "    display: none;\n",
              "    fill: var(--fill-color);\n",
              "    height: 32px;\n",
              "    padding: 0;\n",
              "    width: 32px;\n",
              "  }\n",
              "\n",
              "  .colab-df-quickchart:hover {\n",
              "    background-color: var(--hover-bg-color);\n",
              "    box-shadow: 0 1px 2px rgba(60, 64, 67, 0.3), 0 1px 3px 1px rgba(60, 64, 67, 0.15);\n",
              "    fill: var(--button-hover-fill-color);\n",
              "  }\n",
              "\n",
              "  .colab-df-quickchart-complete:disabled,\n",
              "  .colab-df-quickchart-complete:disabled:hover {\n",
              "    background-color: var(--disabled-bg-color);\n",
              "    fill: var(--disabled-fill-color);\n",
              "    box-shadow: none;\n",
              "  }\n",
              "\n",
              "  .colab-df-spinner {\n",
              "    border: 2px solid var(--fill-color);\n",
              "    border-color: transparent;\n",
              "    border-bottom-color: var(--fill-color);\n",
              "    animation:\n",
              "      spin 1s steps(1) infinite;\n",
              "  }\n",
              "\n",
              "  @keyframes spin {\n",
              "    0% {\n",
              "      border-color: transparent;\n",
              "      border-bottom-color: var(--fill-color);\n",
              "      border-left-color: var(--fill-color);\n",
              "    }\n",
              "    20% {\n",
              "      border-color: transparent;\n",
              "      border-left-color: var(--fill-color);\n",
              "      border-top-color: var(--fill-color);\n",
              "    }\n",
              "    30% {\n",
              "      border-color: transparent;\n",
              "      border-left-color: var(--fill-color);\n",
              "      border-top-color: var(--fill-color);\n",
              "      border-right-color: var(--fill-color);\n",
              "    }\n",
              "    40% {\n",
              "      border-color: transparent;\n",
              "      border-right-color: var(--fill-color);\n",
              "      border-top-color: var(--fill-color);\n",
              "    }\n",
              "    60% {\n",
              "      border-color: transparent;\n",
              "      border-right-color: var(--fill-color);\n",
              "    }\n",
              "    80% {\n",
              "      border-color: transparent;\n",
              "      border-right-color: var(--fill-color);\n",
              "      border-bottom-color: var(--fill-color);\n",
              "    }\n",
              "    90% {\n",
              "      border-color: transparent;\n",
              "      border-bottom-color: var(--fill-color);\n",
              "    }\n",
              "  }\n",
              "</style>\n",
              "\n",
              "  <script>\n",
              "    async function quickchart(key) {\n",
              "      const quickchartButtonEl =\n",
              "        document.querySelector('#' + key + ' button');\n",
              "      quickchartButtonEl.disabled = true;  // To prevent multiple clicks.\n",
              "      quickchartButtonEl.classList.add('colab-df-spinner');\n",
              "      try {\n",
              "        const charts = await google.colab.kernel.invokeFunction(\n",
              "            'suggestCharts', [key], {});\n",
              "      } catch (error) {\n",
              "        console.error('Error during call to suggestCharts:', error);\n",
              "      }\n",
              "      quickchartButtonEl.classList.remove('colab-df-spinner');\n",
              "      quickchartButtonEl.classList.add('colab-df-quickchart-complete');\n",
              "    }\n",
              "    (() => {\n",
              "      let quickchartButtonEl =\n",
              "        document.querySelector('#df-aaecdd1c-9d3c-43c5-b220-2111343d5779 button');\n",
              "      quickchartButtonEl.style.display =\n",
              "        google.colab.kernel.accessAllowed ? 'block' : 'none';\n",
              "    })();\n",
              "  </script>\n",
              "</div>\n",
              "    </div>\n",
              "  </div>\n"
            ]
          },
          "metadata": {},
          "execution_count": 44
        }
      ]
    },
    {
      "cell_type": "code",
      "source": [
        "df.median().min(), df.median().max()"
      ],
      "metadata": {
        "colab": {
          "base_uri": "https://localhost:8080/"
        },
        "id": "UNAcDW6ttNax",
        "outputId": "88ff83d9-ab6c-4043-9dc9-392baf867d6b"
      },
      "execution_count": null,
      "outputs": [
        {
          "output_type": "execute_result",
          "data": {
            "text/plain": [
              "(-118.49, 1166.0)"
            ]
          },
          "metadata": {},
          "execution_count": 47
        }
      ]
    },
    {
      "cell_type": "code",
      "source": [
        "df.apply(np.mean)"
      ],
      "metadata": {
        "colab": {
          "base_uri": "https://localhost:8080/"
        },
        "id": "JRGsqtqtuKa7",
        "outputId": "df8cdb6f-9fa2-41e1-86a2-2be7518bcdc4"
      },
      "execution_count": null,
      "outputs": [
        {
          "output_type": "execute_result",
          "data": {
            "text/plain": [
              "MedInc           3.870671\n",
              "HouseAge        28.639486\n",
              "AveRooms         5.429000\n",
              "AveBedrms        1.096675\n",
              "Population    1425.476744\n",
              "AveOccup         3.070655\n",
              "Latitude        35.631861\n",
              "Longitude     -119.569704\n",
              "dtype: float64"
            ]
          },
          "metadata": {},
          "execution_count": 51
        }
      ]
    },
    {
      "cell_type": "markdown",
      "source": [
        "## Task 1*"
      ],
      "metadata": {
        "id": "wefJ3DRswTMJ"
      }
    },
    {
      "cell_type": "code",
      "source": [
        "morze = {'a': '.-', 'b': '-…', 'c': '-.-.', 'd': '-..',\n",
        "         'e': '.', 'f': '..-.', 'g': '--.', 'h': '….',\n",
        "         'i': '..', 'j': '.---', 'k': '-.-', 'l': '.-..',\n",
        "         'm': '--', 'n': '-.', 'o': '---', 'p': '.--.',\n",
        "         'q': '--.-', 'r': '.-.', 's': '…', 't': '-',\n",
        "         'u': '..-', 'v': '…-', 'w': '.--', 'x': '-..-',\n",
        "         'y': '-.--', 'z': '--..'}\n",
        "\n",
        "def morze_func(convert_str):\n",
        "  return ' '.join([morze[i] for i in list(convert_str.lower())])"
      ],
      "metadata": {
        "id": "T0S_zmZJuv6X"
      },
      "execution_count": null,
      "outputs": []
    },
    {
      "cell_type": "code",
      "source": [
        "print(morze_func('Help'))"
      ],
      "metadata": {
        "colab": {
          "base_uri": "https://localhost:8080/"
        },
        "id": "tmKglmEMveif",
        "outputId": "f058b278-b549-48ed-e4e8-59f7a206ec01"
      },
      "execution_count": null,
      "outputs": [
        {
          "output_type": "stream",
          "name": "stdout",
          "text": [
            "…. . .-.. .--.\n"
          ]
        }
      ]
    },
    {
      "cell_type": "markdown",
      "source": [
        "## Task 2*"
      ],
      "metadata": {
        "id": "zDkMxOYUwo7R"
      }
    },
    {
      "cell_type": "code",
      "source": [
        "names = {}\n",
        "a = int(input('Введите количество имен: '))\n",
        "for i in range(a):\n",
        "  name = input(\"Введите имя: \")\n",
        "  if name not in names:\n",
        "    names[name] = 1\n",
        "    print('OK')\n",
        "  else:\n",
        "    print(name+str(names[name]))\n",
        "    names[name] += 1"
      ],
      "metadata": {
        "colab": {
          "base_uri": "https://localhost:8080/"
        },
        "id": "6sM-oa0Nvjql",
        "outputId": "e047a3f4-69b7-4f9d-c8d3-544abadb715c"
      },
      "execution_count": null,
      "outputs": [
        {
          "output_type": "stream",
          "name": "stdout",
          "text": [
            "Введите количество имен: 10\n",
            "Введите имя: bhnqaptmp\n",
            "OK\n",
            "Введите имя: bhnqaptmp\n",
            "bhnqaptmp1\n",
            "Введите имя: bhnqaptmp\n",
            "bhnqaptmp2\n",
            "Введите имя: bhnqaptmp\n",
            "bhnqaptmp3\n",
            "Введите имя: \n",
            "OK\n",
            "Введите имя: а\\\n",
            "OK\n",
            "Введите имя: аам\n",
            "OK\n",
            "Введите имя: мявсмвс\n",
            "OK\n",
            "Введите имя: мвам\n",
            "OK\n",
            "Введите имя: цууу\n",
            "OK\n"
          ]
        }
      ]
    },
    {
      "cell_type": "markdown",
      "source": [
        "## Task 3*"
      ],
      "metadata": {
        "id": "h7CmFFgy0XHQ"
      }
    },
    {
      "cell_type": "code",
      "source": [
        "n = int(input())\n",
        "lst = [input().split() for i in range(n)]\n",
        "dct = {i[0]: ''.join(i[1:]) for i in lst}\n",
        "a = int(input())\n",
        "for i in range(a):\n",
        "  commands = input().split()\n",
        "  print('OK' if commands[0][0] in dct[commands[1]] or commands[0][1] in dct[commands[1]] else 'Access denied')"
      ],
      "metadata": {
        "id": "DMM1Z8emxZMQ",
        "colab": {
          "base_uri": "https://localhost:8080/"
        },
        "outputId": "aee48dcb-2efb-42cd-87b9-1064c4d466f9"
      },
      "execution_count": null,
      "outputs": [
        {
          "output_type": "stream",
          "name": "stdout",
          "text": [
            "1\n",
            "notebook.exe r w\n",
            "1\n",
            "execute notebook.exe\n",
            "Access denide\n"
          ]
        }
      ]
    }
  ]
}