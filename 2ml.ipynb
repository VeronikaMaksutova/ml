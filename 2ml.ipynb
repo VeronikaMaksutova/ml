{
  "nbformat": 4,
  "nbformat_minor": 0,
  "metadata": {
    "colab": {
      "provenance": []
    },
    "kernelspec": {
      "name": "python3",
      "display_name": "Python 3"
    },
    "language_info": {
      "name": "python"
    },
    "accelerator": "GPU",
    "gpuClass": "standard"
  },
  "cells": [
    {
      "cell_type": "code",
      "source": [
        "import numpy as np\n",
        "import pandas as pd\n",
        "import torch\n",
        "import torchvision\n",
        "import torchvision.transforms as transforms\n",
        "import time\n",
        "from tqdm import tqdm"
      ],
      "metadata": {
        "id": "yar3qfA4CS5M"
      },
      "execution_count": 1,
      "outputs": []
    },
    {
      "cell_type": "markdown",
      "source": [
        "Определяем устройство для использования"
      ],
      "metadata": {
        "id": "YB0Kcdhzvgku"
      }
    },
    {
      "cell_type": "code",
      "source": [
        "device = torch.device(\"cuda:0\" if torch.cuda.is_available() else \"cpu\")"
      ],
      "metadata": {
        "id": "8yDeL3JXvtJu"
      },
      "execution_count": 2,
      "outputs": []
    },
    {
      "cell_type": "markdown",
      "source": [
        "Определяем преобразование, которое применим к набору данных"
      ],
      "metadata": {
        "id": "HGlWaidHvwdT"
      }
    },
    {
      "cell_type": "code",
      "source": [
        "transform = transforms.Compose(\n",
        "    [transforms.ToTensor(),\n",
        "     transforms.Normalize((0.5,), (0.5,))])"
      ],
      "metadata": {
        "id": "JWSO4yaevxKq"
      },
      "execution_count": 3,
      "outputs": []
    },
    {
      "cell_type": "markdown",
      "source": [
        "Загружаем набор обучающих данных"
      ],
      "metadata": {
        "id": "pLncA4B4v-80"
      }
    },
    {
      "cell_type": "code",
      "source": [
        "trainset = torchvision.datasets.FashionMNIST(root='./data', train=True,\n",
        "                                        download=True, transform=transform)\n",
        "trainloader = torch.utils.data.DataLoader(trainset, batch_size=64,\n",
        "                                          shuffle=True, num_workers=2)"
      ],
      "metadata": {
        "id": "WW91fdOMwDZd"
      },
      "execution_count": 4,
      "outputs": []
    },
    {
      "cell_type": "markdown",
      "source": [
        "Загружаем тестовый набор данных"
      ],
      "metadata": {
        "id": "EKlwotpcvxe2"
      }
    },
    {
      "cell_type": "code",
      "source": [
        "testset = torchvision.datasets.FashionMNIST(root='./data', train=False,\n",
        "                                       download=True, transform=transform)\n",
        "testloader = torch.utils.data.DataLoader(testset, batch_size=64,\n",
        "                                         shuffle=False, num_workers=2)"
      ],
      "metadata": {
        "id": "dGW_wYymvyCF"
      },
      "execution_count": 5,
      "outputs": []
    },
    {
      "cell_type": "markdown",
      "source": [
        "Определяем архитектуру нейронной сети"
      ],
      "metadata": {
        "id": "jGoG_-bRwTZw"
      }
    },
    {
      "cell_type": "code",
      "source": [
        "class Net(torch.nn.Module):\n",
        "    def __init__(self):\n",
        "        super(Net, self).__init__()\n",
        "        self.fc1 = torch.nn.Linear(784, 256)\n",
        "        self.fc2 = torch.nn.Linear(256, 128)\n",
        "        self.fc3 = torch.nn.Linear(128, 64)\n",
        "        self.fc4 = torch.nn.Linear(64, 10)\n",
        "        self.relu = torch.nn.ReLU()\n",
        "\n",
        "    def forward(self, x):\n",
        "        x = x.view(-1, 784)\n",
        "        x = self.relu(self.fc1(x))\n",
        "        x = self.relu(self.fc2(x))\n",
        "        x = self.relu(self.fc3(x))\n",
        "        x = self.fc4(x)\n",
        "        return x"
      ],
      "metadata": {
        "id": "uUWbkfr4wT3i"
      },
      "execution_count": 6,
      "outputs": []
    },
    {
      "cell_type": "markdown",
      "source": [
        "Определяем функцию обучения"
      ],
      "metadata": {
        "id": "hWrOAVTLwUKN"
      }
    },
    {
      "cell_type": "code",
      "source": [
        "def train(net, optimizer, criterion, epochs):\n",
        "    for epoch in range(epochs):\n",
        "        running_loss = 0.0\n",
        "        for i, data in enumerate(trainloader, 0):\n",
        "            inputs, labels = data[0].to(device), data[1].to(device)\n",
        "            optimizer.zero_grad()\n",
        "            outputs = net(inputs)\n",
        "            loss = criterion(outputs, labels)\n",
        "            loss.backward()\n",
        "            optimizer.step()\n",
        "            running_loss += loss.item()\n",
        "        print('[Epoch %d] loss: %.3f' %\n",
        "              (epoch + 1, running_loss / len(trainloader)))"
      ],
      "metadata": {
        "id": "9fK9aZs4wUj9"
      },
      "execution_count": 7,
      "outputs": []
    },
    {
      "cell_type": "markdown",
      "source": [
        "Определяем функцию для оценки точности сети"
      ],
      "metadata": {
        "id": "G5YFOi6JxawU"
      }
    },
    {
      "cell_type": "code",
      "source": [
        "def evaluate(net, dataloader):\n",
        "    correct = 0\n",
        "    total = 0\n",
        "    with torch.no_grad():\n",
        "        for data in dataloader:\n",
        "            inputs, labels = data[0].to(device), data[1].to(device)\n",
        "            outputs = net(inputs)\n",
        "            _, predicted = torch.max(outputs.data, 1)\n",
        "            total += labels.size(0)\n",
        "            correct += (predicted == labels).sum().item()\n",
        "    accuracy = 100 * correct / total\n",
        "    return accuracy"
      ],
      "metadata": {
        "id": "Hael_XSwxelP"
      },
      "execution_count": 8,
      "outputs": []
    },
    {
      "cell_type": "markdown",
      "source": [
        "Список оптимизаторов для сравнения"
      ],
      "metadata": {
        "id": "d5jSpnpLx5FF"
      }
    },
    {
      "cell_type": "code",
      "source": [
        "optimizers = ['SGD', 'SGD with momentum', 'Adagrad', 'Adadelta', 'RMSprop', 'Adam', 'Adamax']"
      ],
      "metadata": {
        "id": "yFzx62qsx8bo"
      },
      "execution_count": 9,
      "outputs": []
    },
    {
      "cell_type": "markdown",
      "source": [
        "Обучаем и оцениванием сеть для каждого оптимизатора"
      ],
      "metadata": {
        "id": "GOveUmqXyCxo"
      }
    },
    {
      "cell_type": "code",
      "source": [
        "df_results = pd.DataFrame(columns=['Optimizer', 'Time(s)', 'Accuracy(%)'])\n",
        "for optimizer_name in tqdm(optimizers):\n",
        "    print(f\"Training with {optimizer_name} optimizer...\")\n",
        "    \n",
        "    # Определяем нейронную сеть\n",
        "    net = Net()\n",
        "    net.to(device)\n",
        "\n",
        "    # Определяем функцию потерь и оптимизатор\n",
        "    criterion = torch.nn.CrossEntropyLoss()\n",
        "    if optimizer_name == 'SGD':\n",
        "      optimizer = torch.optim.SGD(net.parameters(), lr=0.01)\n",
        "    elif optimizer_name == 'SGD with momentum':\n",
        "      optimizer = torch.optim.SGD(net.parameters(), lr=0.01, momentum=0.9)\n",
        "    elif optimizer_name == 'Adagrad':\n",
        "      optimizer = torch.optim.Adagrad(net.parameters(), lr=0.01)\n",
        "    elif optimizer_name == 'Adadelta':\n",
        "      optimizer = torch.optim.Adadelta(net.parameters(), lr=0.01)\n",
        "    elif optimizer_name == 'RMSprop':\n",
        "      optimizer = torch.optim.RMSprop(net.parameters(), lr=0.01)\n",
        "    elif optimizer_name == 'Adam':\n",
        "      optimizer = torch.optim.Adam(net.parameters(), lr=0.01)\n",
        "    elif optimizer_name == 'Adamax':\n",
        "      optimizer = torch.optim.Adamax(net.parameters(), lr=0.01)\n",
        "\n",
        "    # Обучаем сеть и измеряем время\n",
        "    start_time = time.time()\n",
        "    train(net, optimizer, criterion, epochs=8)\n",
        "    end_time = time.time()\n",
        "    training_time = end_time - start_time\n",
        "\n",
        "    # Оцениваем точность сети на тестовом наборе\n",
        "    test_accuracy = evaluate(net, testloader)\n",
        "\n",
        "    # Сохраняем результаты\n",
        "    res = [optimizer_name, training_time, test_accuracy]\n",
        "    df_results.loc[len(df_results)] = res\n",
        "    print('\\n')\n",
        "    print('{:<20s}{:<20s}{:<20s}'.format('Optimizer', 'Training Time (s)', 'Test Accuracy (%)'))\n",
        "    print('{:<20s}{:<20.4f}{:<20.2f}'.format(optimizer_name, training_time, test_accuracy))\n",
        "    \n",
        "print('\\n')\n",
        "print(df_results)"
      ],
      "metadata": {
        "colab": {
          "base_uri": "https://localhost:8080/"
        },
        "id": "1WMH9yTTCd1G",
        "outputId": "aa8e1fb4-85af-436c-cad7-58ff2872d774"
      },
      "execution_count": 10,
      "outputs": [
        {
          "output_type": "stream",
          "name": "stderr",
          "text": [
            "\r  0%|          | 0/7 [00:00<?, ?it/s]"
          ]
        },
        {
          "output_type": "stream",
          "name": "stdout",
          "text": [
            "Training with SGD optimizer...\n",
            "[Epoch 1] loss: 1.339\n",
            "[Epoch 2] loss: 0.619\n",
            "[Epoch 3] loss: 0.528\n",
            "[Epoch 4] loss: 0.480\n",
            "[Epoch 5] loss: 0.448\n",
            "[Epoch 6] loss: 0.425\n",
            "[Epoch 7] loss: 0.406\n",
            "[Epoch 8] loss: 0.390\n"
          ]
        },
        {
          "output_type": "stream",
          "name": "stderr",
          "text": [
            "\r 14%|█▍        | 1/7 [02:06<12:37, 126.22s/it]"
          ]
        },
        {
          "output_type": "stream",
          "name": "stdout",
          "text": [
            "\n",
            "\n",
            "Optimizer           Training Time (s)   Test Accuracy (%)   \n",
            "SGD                 121.2270            84.44               \n",
            "Training with SGD with momentum optimizer...\n",
            "[Epoch 1] loss: 0.641\n",
            "[Epoch 2] loss: 0.399\n",
            "[Epoch 3] loss: 0.359\n",
            "[Epoch 4] loss: 0.327\n",
            "[Epoch 5] loss: 0.309\n",
            "[Epoch 6] loss: 0.289\n",
            "[Epoch 7] loss: 0.276\n",
            "[Epoch 8] loss: 0.265\n"
          ]
        },
        {
          "output_type": "stream",
          "name": "stderr",
          "text": [
            "\r 29%|██▊       | 2/7 [04:03<10:05, 121.04s/it]"
          ]
        },
        {
          "output_type": "stream",
          "name": "stdout",
          "text": [
            "\n",
            "\n",
            "Optimizer           Training Time (s)   Test Accuracy (%)   \n",
            "SGD with momentum   115.1819            87.96               \n",
            "Training with Adagrad optimizer...\n",
            "[Epoch 1] loss: 0.506\n",
            "[Epoch 2] loss: 0.366\n",
            "[Epoch 3] loss: 0.333\n",
            "[Epoch 4] loss: 0.311\n",
            "[Epoch 5] loss: 0.295\n",
            "[Epoch 6] loss: 0.282\n",
            "[Epoch 7] loss: 0.272\n",
            "[Epoch 8] loss: 0.262\n"
          ]
        },
        {
          "output_type": "stream",
          "name": "stderr",
          "text": [
            "\r 43%|████▎     | 3/7 [06:05<08:05, 121.31s/it]"
          ]
        },
        {
          "output_type": "stream",
          "name": "stdout",
          "text": [
            "\n",
            "\n",
            "Optimizer           Training Time (s)   Test Accuracy (%)   \n",
            "Adagrad             118.4965            88.08               \n",
            "Training with Adadelta optimizer...\n",
            "[Epoch 1] loss: 1.693\n",
            "[Epoch 2] loss: 0.824\n",
            "[Epoch 3] loss: 0.668\n",
            "[Epoch 4] loss: 0.597\n",
            "[Epoch 5] loss: 0.552\n",
            "[Epoch 6] loss: 0.519\n",
            "[Epoch 7] loss: 0.496\n",
            "[Epoch 8] loss: 0.478\n"
          ]
        },
        {
          "output_type": "stream",
          "name": "stderr",
          "text": [
            "\r 57%|█████▋    | 4/7 [08:04<06:01, 120.41s/it]"
          ]
        },
        {
          "output_type": "stream",
          "name": "stdout",
          "text": [
            "\n",
            "\n",
            "Optimizer           Training Time (s)   Test Accuracy (%)   \n",
            "Adadelta            116.7665            81.98               \n",
            "Training with RMSprop optimizer...\n",
            "[Epoch 1] loss: 1.607\n",
            "[Epoch 2] loss: 0.548\n",
            "[Epoch 3] loss: 0.496\n",
            "[Epoch 4] loss: 0.492\n",
            "[Epoch 5] loss: 0.463\n",
            "[Epoch 6] loss: 0.459\n",
            "[Epoch 7] loss: 0.446\n",
            "[Epoch 8] loss: 0.446\n"
          ]
        },
        {
          "output_type": "stream",
          "name": "stderr",
          "text": [
            "\r 71%|███████▏  | 5/7 [10:02<03:59, 119.74s/it]"
          ]
        },
        {
          "output_type": "stream",
          "name": "stdout",
          "text": [
            "\n",
            "\n",
            "Optimizer           Training Time (s)   Test Accuracy (%)   \n",
            "RMSprop             115.8884            84.40               \n",
            "Training with Adam optimizer...\n",
            "[Epoch 1] loss: 0.582\n",
            "[Epoch 2] loss: 0.462\n",
            "[Epoch 3] loss: 0.431\n",
            "[Epoch 4] loss: 0.421\n",
            "[Epoch 5] loss: 0.404\n",
            "[Epoch 6] loss: 0.402\n",
            "[Epoch 7] loss: 0.396\n",
            "[Epoch 8] loss: 0.388\n"
          ]
        },
        {
          "output_type": "stream",
          "name": "stderr",
          "text": [
            "\r 86%|████████▌ | 6/7 [12:02<01:59, 119.77s/it]"
          ]
        },
        {
          "output_type": "stream",
          "name": "stdout",
          "text": [
            "\n",
            "\n",
            "Optimizer           Training Time (s)   Test Accuracy (%)   \n",
            "Adam                117.6215            84.72               \n",
            "Training with Adamax optimizer...\n",
            "[Epoch 1] loss: 0.510\n",
            "[Epoch 2] loss: 0.381\n",
            "[Epoch 3] loss: 0.340\n",
            "[Epoch 4] loss: 0.320\n",
            "[Epoch 5] loss: 0.303\n",
            "[Epoch 6] loss: 0.286\n",
            "[Epoch 7] loss: 0.272\n",
            "[Epoch 8] loss: 0.260\n"
          ]
        },
        {
          "output_type": "stream",
          "name": "stderr",
          "text": [
            "100%|██████████| 7/7 [14:08<00:00, 121.16s/it]"
          ]
        },
        {
          "output_type": "stream",
          "name": "stdout",
          "text": [
            "\n",
            "\n",
            "Optimizer           Training Time (s)   Test Accuracy (%)   \n",
            "Adamax              123.2785            87.27               \n",
            "\n",
            "\n",
            "           Optimizer     Time(s)  Accuracy(%)\n",
            "0                SGD  121.227005        84.44\n",
            "1  SGD with momentum  115.181901        87.96\n",
            "2            Adagrad  118.496519        88.08\n",
            "3           Adadelta  116.766527        81.98\n",
            "4            RMSprop  115.888372        84.40\n",
            "5               Adam  117.621498        84.72\n",
            "6             Adamax  123.278483        87.27\n"
          ]
        },
        {
          "output_type": "stream",
          "name": "stderr",
          "text": [
            "\n"
          ]
        }
      ]
    },
    {
      "cell_type": "code",
      "source": [
        "df_results"
      ],
      "metadata": {
        "colab": {
          "base_uri": "https://localhost:8080/",
          "height": 269
        },
        "id": "r6hJd3l2WuBO",
        "outputId": "a91bc41e-d3cb-40d4-8a22-f3f5e027cfa1"
      },
      "execution_count": 11,
      "outputs": [
        {
          "output_type": "execute_result",
          "data": {
            "text/plain": [
              "           Optimizer     Time(s)  Accuracy(%)\n",
              "0                SGD  121.227005        84.44\n",
              "1  SGD with momentum  115.181901        87.96\n",
              "2            Adagrad  118.496519        88.08\n",
              "3           Adadelta  116.766527        81.98\n",
              "4            RMSprop  115.888372        84.40\n",
              "5               Adam  117.621498        84.72\n",
              "6             Adamax  123.278483        87.27"
            ],
            "text/html": [
              "\n",
              "  <div id=\"df-f9342ec3-3d4a-4280-a932-18b3f9788b36\">\n",
              "    <div class=\"colab-df-container\">\n",
              "      <div>\n",
              "<style scoped>\n",
              "    .dataframe tbody tr th:only-of-type {\n",
              "        vertical-align: middle;\n",
              "    }\n",
              "\n",
              "    .dataframe tbody tr th {\n",
              "        vertical-align: top;\n",
              "    }\n",
              "\n",
              "    .dataframe thead th {\n",
              "        text-align: right;\n",
              "    }\n",
              "</style>\n",
              "<table border=\"1\" class=\"dataframe\">\n",
              "  <thead>\n",
              "    <tr style=\"text-align: right;\">\n",
              "      <th></th>\n",
              "      <th>Optimizer</th>\n",
              "      <th>Time(s)</th>\n",
              "      <th>Accuracy(%)</th>\n",
              "    </tr>\n",
              "  </thead>\n",
              "  <tbody>\n",
              "    <tr>\n",
              "      <th>0</th>\n",
              "      <td>SGD</td>\n",
              "      <td>121.227005</td>\n",
              "      <td>84.44</td>\n",
              "    </tr>\n",
              "    <tr>\n",
              "      <th>1</th>\n",
              "      <td>SGD with momentum</td>\n",
              "      <td>115.181901</td>\n",
              "      <td>87.96</td>\n",
              "    </tr>\n",
              "    <tr>\n",
              "      <th>2</th>\n",
              "      <td>Adagrad</td>\n",
              "      <td>118.496519</td>\n",
              "      <td>88.08</td>\n",
              "    </tr>\n",
              "    <tr>\n",
              "      <th>3</th>\n",
              "      <td>Adadelta</td>\n",
              "      <td>116.766527</td>\n",
              "      <td>81.98</td>\n",
              "    </tr>\n",
              "    <tr>\n",
              "      <th>4</th>\n",
              "      <td>RMSprop</td>\n",
              "      <td>115.888372</td>\n",
              "      <td>84.40</td>\n",
              "    </tr>\n",
              "    <tr>\n",
              "      <th>5</th>\n",
              "      <td>Adam</td>\n",
              "      <td>117.621498</td>\n",
              "      <td>84.72</td>\n",
              "    </tr>\n",
              "    <tr>\n",
              "      <th>6</th>\n",
              "      <td>Adamax</td>\n",
              "      <td>123.278483</td>\n",
              "      <td>87.27</td>\n",
              "    </tr>\n",
              "  </tbody>\n",
              "</table>\n",
              "</div>\n",
              "      <button class=\"colab-df-convert\" onclick=\"convertToInteractive('df-f9342ec3-3d4a-4280-a932-18b3f9788b36')\"\n",
              "              title=\"Convert this dataframe to an interactive table.\"\n",
              "              style=\"display:none;\">\n",
              "        \n",
              "  <svg xmlns=\"http://www.w3.org/2000/svg\" height=\"24px\"viewBox=\"0 0 24 24\"\n",
              "       width=\"24px\">\n",
              "    <path d=\"M0 0h24v24H0V0z\" fill=\"none\"/>\n",
              "    <path d=\"M18.56 5.44l.94 2.06.94-2.06 2.06-.94-2.06-.94-.94-2.06-.94 2.06-2.06.94zm-11 1L8.5 8.5l.94-2.06 2.06-.94-2.06-.94L8.5 2.5l-.94 2.06-2.06.94zm10 10l.94 2.06.94-2.06 2.06-.94-2.06-.94-.94-2.06-.94 2.06-2.06.94z\"/><path d=\"M17.41 7.96l-1.37-1.37c-.4-.4-.92-.59-1.43-.59-.52 0-1.04.2-1.43.59L10.3 9.45l-7.72 7.72c-.78.78-.78 2.05 0 2.83L4 21.41c.39.39.9.59 1.41.59.51 0 1.02-.2 1.41-.59l7.78-7.78 2.81-2.81c.8-.78.8-2.07 0-2.86zM5.41 20L4 18.59l7.72-7.72 1.47 1.35L5.41 20z\"/>\n",
              "  </svg>\n",
              "      </button>\n",
              "      \n",
              "  <style>\n",
              "    .colab-df-container {\n",
              "      display:flex;\n",
              "      flex-wrap:wrap;\n",
              "      gap: 12px;\n",
              "    }\n",
              "\n",
              "    .colab-df-convert {\n",
              "      background-color: #E8F0FE;\n",
              "      border: none;\n",
              "      border-radius: 50%;\n",
              "      cursor: pointer;\n",
              "      display: none;\n",
              "      fill: #1967D2;\n",
              "      height: 32px;\n",
              "      padding: 0 0 0 0;\n",
              "      width: 32px;\n",
              "    }\n",
              "\n",
              "    .colab-df-convert:hover {\n",
              "      background-color: #E2EBFA;\n",
              "      box-shadow: 0px 1px 2px rgba(60, 64, 67, 0.3), 0px 1px 3px 1px rgba(60, 64, 67, 0.15);\n",
              "      fill: #174EA6;\n",
              "    }\n",
              "\n",
              "    [theme=dark] .colab-df-convert {\n",
              "      background-color: #3B4455;\n",
              "      fill: #D2E3FC;\n",
              "    }\n",
              "\n",
              "    [theme=dark] .colab-df-convert:hover {\n",
              "      background-color: #434B5C;\n",
              "      box-shadow: 0px 1px 3px 1px rgba(0, 0, 0, 0.15);\n",
              "      filter: drop-shadow(0px 1px 2px rgba(0, 0, 0, 0.3));\n",
              "      fill: #FFFFFF;\n",
              "    }\n",
              "  </style>\n",
              "\n",
              "      <script>\n",
              "        const buttonEl =\n",
              "          document.querySelector('#df-f9342ec3-3d4a-4280-a932-18b3f9788b36 button.colab-df-convert');\n",
              "        buttonEl.style.display =\n",
              "          google.colab.kernel.accessAllowed ? 'block' : 'none';\n",
              "\n",
              "        async function convertToInteractive(key) {\n",
              "          const element = document.querySelector('#df-f9342ec3-3d4a-4280-a932-18b3f9788b36');\n",
              "          const dataTable =\n",
              "            await google.colab.kernel.invokeFunction('convertToInteractive',\n",
              "                                                     [key], {});\n",
              "          if (!dataTable) return;\n",
              "\n",
              "          const docLinkHtml = 'Like what you see? Visit the ' +\n",
              "            '<a target=\"_blank\" href=https://colab.research.google.com/notebooks/data_table.ipynb>data table notebook</a>'\n",
              "            + ' to learn more about interactive tables.';\n",
              "          element.innerHTML = '';\n",
              "          dataTable['output_type'] = 'display_data';\n",
              "          await google.colab.output.renderOutput(dataTable, element);\n",
              "          const docLink = document.createElement('div');\n",
              "          docLink.innerHTML = docLinkHtml;\n",
              "          element.appendChild(docLink);\n",
              "        }\n",
              "      </script>\n",
              "    </div>\n",
              "  </div>\n",
              "  "
            ]
          },
          "metadata": {},
          "execution_count": 11
        }
      ]
    }
  ]
}