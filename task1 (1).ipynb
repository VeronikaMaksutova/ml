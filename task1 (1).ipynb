{
  "cells": [
    {
      "cell_type": "code",
      "execution_count": 47,
      "metadata": {
        "id": "1UR8jWzk6uU3"
      },
      "outputs": [],
      "source": [
        "#pip install torch"
      ]
    },
    {
      "cell_type": "code",
      "execution_count": 48,
      "metadata": {
        "id": "ukjTXSOE6yht",
        "pycharm": {
          "is_executing": true
        }
      },
      "outputs": [],
      "source": [
        "import torch as th\n",
        "import numpy as np\n",
        "import random\n",
        "from tqdm import tqdm\n",
        "#сделаем инициализацию random seed, \n",
        "#чтобы наши эксперименты были воспроизводимы\n",
        "\n",
        "random.seed(0)\n",
        "np.random.seed(0)\n",
        "th.manual_seed(0)\n",
        "th.cuda.manual_seed(0)\n",
        "th.backends.cudnn.deterministic=True"
      ]
    },
    {
      "cell_type": "code",
      "execution_count": 49,
      "metadata": {
        "id": "mnze1dsy759S"
      },
      "outputs": [],
      "source": [
        "#скачивание датасета для классификации изображений\n",
        "import torchvision.datasets\n",
        "\n",
        "MNIST_train = torchvision.datasets.MNIST('./', download = True, train = True)\n",
        "MNIST_test = torchvision.datasets.MNIST('./', download = True, train = False)"
      ]
    },
    {
      "cell_type": "code",
      "execution_count": 50,
      "metadata": {
        "id": "D17O66_Y8XVd"
      },
      "outputs": [],
      "source": [
        "X_train = MNIST_train.train_data\n",
        "y_train = MNIST_train.train_labels\n",
        "X_test = MNIST_test.test_data\n",
        "y_test = MNIST_test.test_labels"
      ]
    },
    {
      "cell_type": "code",
      "execution_count": 51,
      "metadata": {
        "colab": {
          "base_uri": "https://localhost:8080/"
        },
        "id": "APx5M9L_9JmE",
        "outputId": "60fb706e-0f64-4df9-8702-a59573b749b0"
      },
      "outputs": [
        {
          "output_type": "execute_result",
          "data": {
            "text/plain": [
              "(torch.uint8, torch.int64)"
            ]
          },
          "metadata": {},
          "execution_count": 51
        }
      ],
      "source": [
        "#посмотрим какой у данных тип\n",
        "X_train.dtype, y_train.dtype"
      ]
    },
    {
      "cell_type": "code",
      "execution_count": 52,
      "metadata": {
        "id": "g2AQpB3t9RL-"
      },
      "outputs": [],
      "source": [
        "#данные имеют тип беззнаковый 8, а таргеты - целые 64 бита\n",
        "#преобразуем сразу данные в веществиенный тип\n",
        "X_train = X_train.float()\n",
        "X_test = X_test.float()"
      ]
    },
    {
      "cell_type": "code",
      "execution_count": 53,
      "metadata": {
        "colab": {
          "base_uri": "https://localhost:8080/"
        },
        "id": "SzTDAw5t9mdb",
        "outputId": "d08bc611-b22c-4cd9-cf6b-e86e9dd88d12"
      },
      "outputs": [
        {
          "output_type": "execute_result",
          "data": {
            "text/plain": [
              "(torch.Size([60000, 28, 28]), torch.Size([10000, 28, 28]))"
            ]
          },
          "metadata": {},
          "execution_count": 53
        }
      ],
      "source": [
        "#посмотрим на расзмерность датасетов\n",
        "X_train.shape, X_test.shape\n",
        "#это очень маленькие картинки, именно поэтому мы можем использовать\n",
        "#полносвязную нейронную сеть для такой задачи, а не сверточные сети"
      ]
    },
    {
      "cell_type": "code",
      "execution_count": 54,
      "metadata": {
        "colab": {
          "base_uri": "https://localhost:8080/"
        },
        "id": "N09Kwd269vwF",
        "outputId": "ec50215f-d85a-4cd3-b8b8-ffbc4941372b"
      },
      "outputs": [
        {
          "output_type": "execute_result",
          "data": {
            "text/plain": [
              "(torch.Size([60000]), torch.Size([10000]))"
            ]
          },
          "metadata": {},
          "execution_count": 54
        }
      ],
      "source": [
        "y_train.shape, y_test.shape"
      ]
    },
    {
      "cell_type": "code",
      "execution_count": 55,
      "metadata": {
        "colab": {
          "base_uri": "https://localhost:8080/",
          "height": 1000
        },
        "id": "oUvvAckp-Sn8",
        "outputId": "a3f47ae5-12b4-4d60-b463-f45e52676409"
      },
      "outputs": [
        {
          "output_type": "display_data",
          "data": {
            "text/plain": [
              "<Figure size 432x288 with 1 Axes>"
            ],
            "image/png": "[encoded data removed]"
          },
          "metadata": {
            "needs_background": "light"
          }
        },
        {
          "output_type": "display_data",
          "data": {
            "text/plain": [
              "<Figure size 432x288 with 1 Axes>"
            ],
            "image/png": "[encoded data removed]"
          },
          "metadata": {
            "needs_background": "light"
          }
        },
        {
          "output_type": "display_data",
          "data": {
            "text/plain": [
              "<Figure size 432x288 with 1 Axes>"
            ],
            "image/png": "[encoded data removed]"
          },
          "metadata": {
            "needs_background": "light"
          }
        },
        {
          "output_type": "display_data",
          "data": {
            "text/plain": [
              "<Figure size 432x288 with 1 Axes>"
            ],
            "image/png": "[encoded data removed]"
          },
          "metadata": {
            "needs_background": "light"
          }
        },
        {
          "output_type": "display_data",
          "data": {
            "text/plain": [
              "<Figure size 432x288 with 1 Axes>"
            ],
            "image/png": "[encoded data removed]"
          },
          "metadata": {
            "needs_background": "light"
          }
        },
        {
          "output_type": "display_data",
          "data": {
            "text/plain": [
              "<Figure size 432x288 with 1 Axes>"
            ],
            "image/png": "[encoded data removed]"
          },
          "metadata": {
            "needs_background": "light"
          }
        },
        {
          "output_type": "display_data",
          "data": {
            "text/plain": [
              "<Figure size 432x288 with 1 Axes>"
            ],
            "image/png": "[encoded data removed]"
          },
          "metadata": {
            "needs_background": "light"
          }
        },
        {
          "output_type": "display_data",
          "data": {
            "text/plain": [
              "<Figure size 432x288 with 1 Axes>"
            ],
            "image/png": "[encoded data removed]"
          },
          "metadata": {
            "needs_background": "light"
          }
        },
        {
          "output_type": "display_data",
          "data": {
            "text/plain": [
              "<Figure size 432x288 with 1 Axes>"
            ],
            "image/png": "[encoded data removed]"
          },
          "metadata": {
            "needs_background": "light"
          }
        },
        {
          "output_type": "display_data",
          "data": {
            "text/plain": [
              "<Figure size 432x288 with 1 Axes>"
            ],
            "image/png": "[encoded data removed]"
          },
          "metadata": {
            "needs_background": "light"
          }
        },
        {
          "output_type": "stream",
          "name": "stdout",
          "text": [
            "tensor(3)\n"
          ]
        }
      ],
      "source": [
        "#посмотрим на картинки\n",
        "import matplotlib.pyplot as plt\n",
        "for i in range(0, 10):\n",
        "  plt.imshow(X_train[i, :, :])\n",
        "  plt.show()\n",
        "print(y_train[7])"
      ]
    },
    {
      "cell_type": "code",
      "execution_count": 56,
      "metadata": {
        "colab": {
          "base_uri": "https://localhost:8080/"
        },
        "id": "51sBbxg1AOug",
        "outputId": "06072a69-b144-4850-da12-527ae72d1568"
      },
      "outputs": [
        {
          "output_type": "stream",
          "name": "stdout",
          "text": [
            "tensor([[0., 0., 0.,  ..., 0., 0., 0.],\n",
            "        [0., 0., 0.,  ..., 0., 0., 0.],\n",
            "        [0., 0., 0.,  ..., 0., 0., 0.],\n",
            "        ...,\n",
            "        [0., 0., 0.,  ..., 0., 0., 0.],\n",
            "        [0., 0., 0.,  ..., 0., 0., 0.],\n",
            "        [0., 0., 0.,  ..., 0., 0., 0.]])\n"
          ]
        }
      ],
      "source": [
        "#у нас трезмерный тензор, мы хотим двумерный тензор, \n",
        "#чтобы первая рамерность сохранилась, то есть 60000 картинок\n",
        "#вместо 28 и 28 будет 764 пикселя\n",
        "\n",
        "X_train = X_train.reshape([-1, 28*28])\n",
        "X_test = X_test.reshape([-1, 28*28])\n",
        "\n",
        "print(X_train)\n"
      ]
    },
    {
      "cell_type": "code",
      "execution_count": 57,
      "metadata": {
        "id": "rBCCAbFXB5X6"
      },
      "outputs": [],
      "source": [
        "#Создание сети\n",
        "# на выходе у нас числа от 0 до 9\n",
        "class MNISTnet(th.nn.Module):\n",
        "  def __init__(self):\n",
        "    super (MNISTnet, self).__init__()\n",
        "    self.fc1 = th.nn.Linear(784, 128)\n",
        "    self.fc2 = th.nn.Linear(128, 64)\n",
        "    self.fc3 = th.nn.Linear(64, 10) \n",
        "    self.act = th.nn.ReLU()  \n",
        "    self.sm = th.nn.Softmax(dim = 1)\n",
        "\n",
        "  def forward(self, x):\n",
        "    x = self.act(self.fc1(x))\n",
        "    x = self.act(self.fc2(x))\n",
        "    x = self.act(self.fc3(x))\n",
        "    return x\n",
        "\n",
        "  def predict(self,x):\n",
        "    x = self.forward(x)\n",
        "    print(x)\n",
        "    x = self.sm(x)\n",
        "    return x\n",
        "net = MNISTnet()"
      ]
    },
    {
      "cell_type": "code",
      "execution_count": 58,
      "metadata": {
        "colab": {
          "base_uri": "https://localhost:8080/"
        },
        "id": "FU0vdZleMF_N",
        "outputId": "5a62a572-5e2d-44c2-8bce-466c11d24b46"
      },
      "outputs": [
        {
          "output_type": "execute_result",
          "data": {
            "text/plain": [
              "True"
            ]
          },
          "metadata": {},
          "execution_count": 58
        }
      ],
      "source": [
        "''' есть ли видеокарта?'''\n",
        "th.cuda.is_available()"
      ]
    },
    {
      "cell_type": "code",
      "execution_count": 59,
      "metadata": {
        "colab": {
          "base_uri": "https://localhost:8080/"
        },
        "id": "4yHSa30oMhXb",
        "outputId": "aa7394f3-1efb-48d8-854c-4f49524404fb"
      },
      "outputs": [
        {
          "output_type": "stream",
          "name": "stdout",
          "text": [
            "Wed Mar 15 11:28:24 2023       \n",
            "+-----------------------------------------------------------------------------+\n",
            "| NVIDIA-SMI 525.85.12    Driver Version: 525.85.12    CUDA Version: 12.0     |\n",
            "|-------------------------------+----------------------+----------------------+\n",
            "| GPU  Name        Persistence-M| Bus-Id        Disp.A | Volatile Uncorr. ECC |\n",
            "| Fan  Temp  Perf  Pwr:Usage/Cap|         Memory-Usage | GPU-Util  Compute M. |\n",
            "|                               |                      |               MIG M. |\n",
            "|===============================+======================+======================|\n",
            "|   0  Tesla T4            Off  | 00000000:00:04.0 Off |                    0 |\n",
            "| N/A   74C    P0    32W /  70W |   1329MiB / 15360MiB |      0%      Default |\n",
            "|                               |                      |                  N/A |\n",
            "+-------------------------------+----------------------+----------------------+\n",
            "                                                                               \n",
            "+-----------------------------------------------------------------------------+\n",
            "| Processes:                                                                  |\n",
            "|  GPU   GI   CI        PID   Type   Process name                  GPU Memory |\n",
            "|        ID   ID                                                   Usage      |\n",
            "|=============================================================================|\n",
            "+-----------------------------------------------------------------------------+\n"
          ]
        }
      ],
      "source": [
        "'''смотрим, занята ли карта какими либо вычислениями'''\n",
        "!nvidia-smi"
      ]
    },
    {
      "cell_type": "code",
      "execution_count": 60,
      "metadata": {
        "id": "ZWe0YPZnMwtN"
      },
      "outputs": [],
      "source": [
        "\"\"\" теперь нужно переложить вычисления на видеокарту\"\"\"\n",
        "\n",
        "device = th.device('cuda:0' if th.cuda.is_available() else 'cpu')\n",
        "net = net.to(device)"
      ]
    },
    {
      "cell_type": "code",
      "execution_count": 61,
      "metadata": {
        "id": "WtSXW1VvDSsv"
      },
      "outputs": [],
      "source": [
        "loss = th.nn.CrossEntropyLoss()\n",
        "optimizer = th.optim.Adam(net.parameters(), lr=0.001)"
      ]
    },
    {
      "cell_type": "code",
      "source": [
        "batch_size = 64\n",
        "epochs = 15\n",
        "\n",
        "X_test = X_test.to(device)\n",
        "y_test = y_test.to(device)\n",
        "\n",
        "X_train = X_train.to(device)\n",
        "y_train = y_train.to(device)\n",
        "train_loss = []\n",
        "epoch_counter = []\n",
        "test_loss = []\n",
        "epoch_s = []"
      ],
      "metadata": {
        "id": "BHRhDgXg_8gb"
      },
      "execution_count": 62,
      "outputs": []
    },
    {
      "cell_type": "code",
      "execution_count": 63,
      "metadata": {
        "colab": {
          "base_uri": "https://localhost:8080/",
          "height": 279
        },
        "id": "iLHagWwaHCEg",
        "outputId": "6891c10d-1724-4c74-c762-59536f6487ad"
      },
      "outputs": [
        {
          "output_type": "display_data",
          "data": {
            "text/plain": [
              "<Figure size 432x288 with 1 Axes>"
            ],
            "image/png": "[encoded data removed]"
          },
          "metadata": {
            "needs_background": "light"
          }
        }
      ],
      "source": [
        "\n",
        "for epoch in range(epochs):\n",
        "  order = np.random.permutation(len(X_train))\n",
        "  for start_index in range (0,len(X_train), batch_size):\n",
        "    optimizer.zero_grad()\n",
        "    batch_index = order[start_index:start_index+batch_size]\n",
        "\n",
        "    X_batch = X_train[batch_index]\n",
        "    y_batch = y_train[batch_index]\n",
        "    preds = net.forward(X_batch)\n",
        "    loss_val = loss(preds, y_batch)\n",
        "    loss_val.backward()\n",
        "\n",
        "    optimizer.step()\n",
        "\n",
        "  train_loss.append(loss_val)\n",
        "  test_preds = net.forward(X_test)\n",
        "  loss_pred = loss(test_preds, y_test) \n",
        "  test_loss.append(loss_pred) \n",
        "  epoch_counter.append(epoch)\n",
        "  test_preds = test_preds.argmax(dim=1)\n",
        "  epoch_s.append(epoch)\n",
        "\n",
        "for i in range(len(test_loss)):\n",
        "  test_loss[i] = test_loss[i].cpu().detach().numpy()\n",
        "  train_loss[i] = train_loss[i].cpu().detach().numpy()\n",
        "\n",
        "plt.plot(epoch_s, test_loss, label='test loss')\n",
        "plt.plot(epoch_s, train_loss,label='train loss')\n",
        "plt.legend()\n",
        "plt.xlabel('Эпоха')\n",
        "plt.ylabel('Loss')\n",
        "plt.show()"
      ]
    },
    {
      "cell_type": "code",
      "execution_count": 64,
      "metadata": {
        "id": "8e61j5upWCwl"
      },
      "outputs": [],
      "source": [
        "def pred_test(i): \n",
        "  img = X_test[i].view(1, 784) \n",
        "  with th.no_grad():\n",
        "    logps = net.predict(img)\n",
        "  ps = th.exp(logps)\n",
        "  probab = list(ps.cpu().numpy()[0])\n",
        "  print(\"Прогноз =\", probab.index(max(probab)))\n",
        "  print(\"Значение =\", y_test.cpu().numpy()[i])\n",
        "  plt.subplots(figsize=(6,9))\n",
        "  plt.imshow(X_test.cpu()[i].resize(1, 28, 28).numpy().squeeze())\n",
        "  plt.show()"
      ]
    },
    {
      "cell_type": "code",
      "execution_count": 65,
      "metadata": {
        "colab": {
          "base_uri": "https://localhost:8080/",
          "height": 452
        },
        "id": "LY-ApefMY3tD",
        "outputId": "b8337671-9e89-4240-c552-5ec60df7f696"
      },
      "outputs": [
        {
          "output_type": "stream",
          "name": "stdout",
          "text": [
            "tensor([[ 0.0000,  0.0000,  0.0000,  0.0000, 11.4367,  0.0000,  0.0000,  0.0000,\n",
            "          0.0000,  1.6643]], device='cuda:0')\n",
            "Прогноз = 4\n",
            "Значение = 4\n"
          ]
        },
        {
          "output_type": "display_data",
          "data": {
            "text/plain": [
              "<Figure size 432x648 with 1 Axes>"
            ],
            "image/png": "[encoded data removed]"
          },
          "metadata": {
            "needs_background": "light"
          }
        }
      ],
      "source": [
        "pred_test(159)"
      ]
    },
    {
      "cell_type": "code",
      "execution_count": 66,
      "metadata": {
        "colab": {
          "base_uri": "https://localhost:8080/"
        },
        "id": "wgsZ263XZqci",
        "outputId": "75b7f6db-8f48-4e9d-aaeb-51a63edad298"
      },
      "outputs": [
        {
          "output_type": "stream",
          "name": "stdout",
          "text": [
            "tensor([[ 0.0000,  0.0000,  5.3214,  ..., 22.4500,  0.0000,  0.1858],\n",
            "        [ 0.0000,  0.0000, 56.9320,  ...,  0.0000,  2.1119,  0.0000],\n",
            "        [ 0.0000, 23.7563,  0.0000,  ...,  0.0000,  0.0000,  0.0000],\n",
            "        ...,\n",
            "        [ 0.0000,  0.0000,  0.0000,  ...,  0.0000,  0.0000,  2.4457],\n",
            "        [ 0.0000,  0.0000,  0.0000,  ...,  0.0000,  5.7720,  0.0000],\n",
            "        [ 0.0000,  0.0000,  0.0000,  ...,  0.0000,  0.3244,  0.0000]],\n",
            "       device='cuda:0', grad_fn=<ReluBackward0>)\n",
            "96 149 151 217 241 247 290 321 324 340 359 404 412 445 448 479 543 552 582 583 603 610 659 684 691 716 717 726 844 883 895 924 947 956 1014 1026 1039 1044 1107 1112 1182 1191 1226 1232 1242 1247 1260 1289 1319 1328 1393 1438 1494 1522 1527 1530 1549 1553 1569 1610 1681 1686 1692 1748 1751 1800 1813 1819 1843 1850 1878 1901 1908 1941 1952 1968 1969 1987 2004 2018 2024 2043 2044 2053 2109 2118 2121 2125 2129 2130 2135 2162 2246 2291 2329 2369 2387 2422 2433 2447 2454 2455 2488 2582 2597 2607 2648 2654 2686 2713 2921 2927 2939 2953 2979 2995 3012 3030 3062 3117 3222 3251 3257 3284 3289 3375 3405 3503 3520 3549 3558 3559 3597 3604 3664 3688 3710 3764 3767 3774 3776 3780 3808 3817 3818 3853 3869 3871 3876 3893 3902 3906 3941 3943 4007 4043 4065 4075 4078 4093 4140 4154 4163 4176 4201 4205 4211 4224 4248 4271 4289 4306 4359 4437 4497 4500 4536 4567 4571 4601 4639 4731 4740 4804 4823 4879 4880 4918 4956 4966 4978 4990 5046 5078 5140 5165 5176 5199 5331 5457 5593 5642 5676 5678 5734 5749 5936 5937 5955 5973 6042 6059 6071 6081 6091 6166 6391 6505 6511 6532 6555 6559 6560 6571 6576 6597 6614 6625 6632 6641 6651 6741 6755 6783 6847 6926 7094 7121 7154 7208 7216 7259 7426 7434 7457 7473 7481 7511 7821 7921 8062 8094 8243 8294 8311 8325 8408 8410 8426 9009 9010 9015 9024 9032 9046 9211 9280 9316 9394 9422 9587 9634 9664 9716 9729 9749 9768 9770 9808 9858 9888 9893 9980 9982 9992 \n",
            "Number Of Images Tested = 10000\n",
            "Model Accuracy = 0.9715\n"
          ]
        }
      ],
      "source": [
        "preds = net.predict(X_test)\n",
        "true_vals, all_vals = 0, 0\n",
        "for i in range(10000):\n",
        "  probab = list(preds.cpu().detach().numpy()[i])\n",
        "  if probab.index(max(probab)) == y_test.cpu().numpy()[i]:\n",
        "    true_vals += 1\n",
        "  else: \n",
        "    print(i, end=\" \")\n",
        "  all_vals += 1\n",
        "\n",
        "print(\"\\nNumber Of Images Tested =\", all_vals)\n",
        "print(\"Model Accuracy =\", (true_vals/all_vals))"
      ]
    },
    {
      "cell_type": "markdown",
      "metadata": {
        "id": "hWn93Cu_YiSu"
      },
      "source": [
        "###Задание\n"
      ]
    },
    {
      "cell_type": "markdown",
      "metadata": {
        "id": "_XR5ANxsy3V4"
      },
      "source": [
        "1.   Дописать код после фразы Ваш_Код_Здесь.\n",
        "2.   Поэкспериментировать с гиперпараметрами нейронной сети, чтобы добиться более высокой точности классификации.\n",
        "4.   Построить на одном графике loss для тестовой выборки и для обучающей.\n",
        "5.   Ведет ли увеличение количества эпох (40 эпох -> 200 эпох) к улучшению метрик на валидации?\n",
        "6.   Замерьте время вычисления 100 эпох на CPU и на GPU.\n",
        "7.   Показать результат работы модели с использованием функции predict.\n"
      ]
    },
    {
      "cell_type": "markdown",
      "source": [
        "Сигмоиды насыщают и уничтожают градиенты. Очень нежелательным свойством сигмовидного нейрона является то, что, когда активация нейрона насыщается в хвосте 0 или 1, градиент в этих областях почти равен нулю. Напомним, что во время обратного распространения этот (локальный) градиент будет умножен на градиент выходных данных этого шлюза для всей цели. Следовательно, если локальный градиент очень мал, это эффективно “убьет” градиент, и почти никакой сигнал не будет проходить через нейрон к его весам и рекурсивно к его данным. Кроме того, необходимо соблюдать особую осторожность при инициализации весов сигмовидных нейронов, чтобы предотвратить насыщение. Например, если начальные веса слишком велики, то большинство нейронов станут перенасыщенными, и сеть едва ли будет обучаться.\n",
        "Сигмовидные выходы не имеют нулевого центра. Это нежелательно, поскольку нейроны на более поздних уровнях обработки в нейронной сети (подробнее об этом скоро) будут получать данные, которые не центрированы по нулю. Это влияет на динамику во время градиентного спуска, потому что, если данные, поступающие в нейрон, всегда положительны (например, x>0\n",
        "поэлементно в f=wTx+b\n",
        ")), тогда градиент по весам w\n",
        "во время обратного распространения станет либо полностью положительным, либо полностью отрицательным (в зависимости от градиента всего выражения f\n",
        "). Это может привести к нежелательной зигзагообразной динамике в обновлениях градиента для весов. Однако обратите внимание, что как только эти градиенты суммируются по пакету данных, окончательное обновление весов может иметь переменные знаки, что несколько смягчает эту проблему. Таким образом, это неудобство, но оно имеет менее серьезные последствия по сравнению с описанной выше проблемой насыщенной активации."
      ],
      "metadata": {
        "id": "gjr0kh-pJlZX"
      }
    },
    {
      "cell_type": "markdown",
      "source": [
        "(+) Было обнаружено, что это значительно ускоряет (например, в 6 раз у Крижевского и др.) сходимость стохастического градиентного спуска по сравнению с сигмоидальными функциями / tanh. Утверждается, что это связано с его линейной, ненасыщающей формой.\n",
        "(+) По сравнению с tanh / сигмовидными нейронами, которые требуют дорогостоящих операций (экспоненты и т.д.), ReLU может быть реализован простым установлением порогового значения матрицы активаций на нуле.\n",
        "(-) К сожалению, блоки ReLU могут быть хрупкими во время обучения и могут “умереть”. Например, большой градиент, протекающий через нейрон ReLU, может привести к обновлению весов таким образом, что нейрон никогда больше не активируется ни в одной точке данных. Если это произойдет, то градиент, проходящий через единицу измерения, с этого момента навсегда будет равен нулю. То есть блоки ReLU могут необратимо погибнуть во время обучения, поскольку они могут быть сбиты с коллектора данных. Например, вы можете обнаружить, что до 40% вашей сети может быть “мертвой” (т.е. нейроны, которые никогда не активируются во всем обучающем наборе данных), если скорость обучения установлена слишком высокой. При правильной настройке скорости обучения это реже является проблемой."
      ],
      "metadata": {
        "id": "uHRv_l7sJyOC"
      }
    },
    {
      "cell_type": "markdown",
      "source": [
        "Максимальный выход. Были предложены другие типы единиц измерения, которые не имеют функциональной формы f(wTx+b)\n",
        ", где к точечному произведению между весами и данными применяется нелинейность. Одним из относительно популярных вариантов является нейрон Max out (недавно представленный Гудфеллоу и др.), который обобщает результат и его негерметичную версию. Нейрон Max out вычисляет функцию max(wT 1 x+b1,t2+b2)\n",
        ". Обратите внимание, что как Reliable, так и Leaky ReLU являются частным случаем этой формы (например, для ReLU мы имеем w1,b1=0\n",
        "). Таким образом, нейрон Maxout обладает всеми преимуществами ретрансляционного блока (линейный режим работы, отсутствие насыщения) и не имеет его недостатков (умирающий ReLU). Однако, в отличие от нейронов ReLU, он удваивает количество параметров для каждого отдельного нейрона, что приводит к большому общему числу параметров."
      ],
      "metadata": {
        "id": "Cy0WwhSJKBsU"
      }
    }
  ],
  "metadata": {
    "accelerator": "GPU",
    "colab": {
      "provenance": []
    },
    "gpuClass": "standard",
    "kernelspec": {
      "display_name": "Python 3",
      "name": "python3"
    },
    "language_info": {
      "name": "python"
    }
  },
  "nbformat": 4,
  "nbformat_minor": 0
}