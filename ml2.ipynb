{
  "nbformat": 4,
  "nbformat_minor": 0,
  "metadata": {
    "colab": {
      "provenance": []
    },
    "kernelspec": {
      "name": "python3",
      "display_name": "Python 3"
    },
    "language_info": {
      "name": "python"
    },
    "accelerator": "GPU",
    "gpuClass": "standard"
  },
  "cells": [
    {
      "cell_type": "code",
      "source": [
        "import numpy as np\n",
        "import pandas as pd\n",
        "import torch\n",
        "import torchvision\n",
        "import torchvision.transforms as transforms\n",
        "import time\n",
        "from tqdm import tqdm"
      ],
      "metadata": {
        "id": "yar3qfA4CS5M"
      },
      "execution_count": 1,
      "outputs": []
    },
    {
      "cell_type": "markdown",
      "source": [
        "Определяем устройство для использования"
      ],
      "metadata": {
        "id": "YB0Kcdhzvgku"
      }
    },
    {
      "cell_type": "code",
      "source": [
        "device = torch.device(\"cuda:0\" if torch.cuda.is_available() else \"cpu\")"
      ],
      "metadata": {
        "id": "8yDeL3JXvtJu"
      },
      "execution_count": 2,
      "outputs": []
    },
    {
      "cell_type": "markdown",
      "source": [
        "Определяем преобразование, которое применим к набору данных"
      ],
      "metadata": {
        "id": "HGlWaidHvwdT"
      }
    },
    {
      "cell_type": "code",
      "source": [
        "transform = transforms.Compose(\n",
        "    [transforms.ToTensor(),\n",
        "     transforms.Normalize((0.5,), (0.5,))])"
      ],
      "metadata": {
        "id": "JWSO4yaevxKq"
      },
      "execution_count": 3,
      "outputs": []
    },
    {
      "cell_type": "markdown",
      "source": [
        "Загружаем набор обучающих данных"
      ],
      "metadata": {
        "id": "pLncA4B4v-80"
      }
    },
    {
      "cell_type": "code",
      "source": [
        "trainset = torchvision.datasets.FashionMNIST(root='./data', train=True,\n",
        "                                        download=True, transform=transform)\n",
        "trainloader = torch.utils.data.DataLoader(trainset, batch_size=64,\n",
        "                                          shuffle=True, num_workers=2)"
      ],
      "metadata": {
        "id": "WW91fdOMwDZd"
      },
      "execution_count": null,
      "outputs": []
    },
    {
      "cell_type": "markdown",
      "source": [
        "Загружаем тестовый набор данных"
      ],
      "metadata": {
        "id": "EKlwotpcvxe2"
      }
    },
    {
      "cell_type": "code",
      "source": [
        "testset = torchvision.datasets.FashionMNIST(root='./data', train=False,\n",
        "                                       download=True, transform=transform)\n",
        "testloader = torch.utils.data.DataLoader(testset, batch_size=64,\n",
        "                                         shuffle=False, num_workers=2)"
      ],
      "metadata": {
        "id": "dGW_wYymvyCF"
      },
      "execution_count": 5,
      "outputs": []
    },
    {
      "cell_type": "markdown",
      "source": [
        "Определяем архитектуру нейронной сети"
      ],
      "metadata": {
        "id": "jGoG_-bRwTZw"
      }
    },
    {
      "cell_type": "code",
      "source": [
        "class Net(torch.nn.Module):\n",
        "    def __init__(self):\n",
        "        super(Net, self).__init__()\n",
        "        self.fc1 = torch.nn.Linear(784, 256)\n",
        "        self.fc2 = torch.nn.Linear(256, 128)\n",
        "        self.fc3 = torch.nn.Linear(128, 64)\n",
        "        self.fc4 = torch.nn.Linear(64, 10)\n",
        "        self.relu = torch.nn.ReLU()\n",
        "\n",
        "    def forward(self, x):\n",
        "        x = x.view(-1, 784)\n",
        "        x = self.relu(self.fc1(x))\n",
        "        x = self.relu(self.fc2(x))\n",
        "        x = self.relu(self.fc3(x))\n",
        "        x = self.fc4(x)\n",
        "        return x"
      ],
      "metadata": {
        "id": "uUWbkfr4wT3i"
      },
      "execution_count": 6,
      "outputs": []
    },
    {
      "cell_type": "markdown",
      "source": [
        "Определяем функцию обучения"
      ],
      "metadata": {
        "id": "hWrOAVTLwUKN"
      }
    },
    {
      "cell_type": "code",
      "source": [
        "def train(net, optimizer, criterion, epochs):\n",
        "    for epoch in range(epochs):\n",
        "        running_loss = 0.0\n",
        "        for i, data in enumerate(trainloader, 0):\n",
        "            inputs, labels = data[0].to(device), data[1].to(device)\n",
        "            optimizer.zero_grad()\n",
        "            outputs = net(inputs)\n",
        "            loss = criterion(outputs, labels)\n",
        "            loss.backward()\n",
        "            optimizer.step()\n",
        "            running_loss += loss.item()\n",
        "        print('[Epoch %d] loss: %.3f' %\n",
        "              (epoch + 1, running_loss / len(trainloader)))"
      ],
      "metadata": {
        "id": "9fK9aZs4wUj9"
      },
      "execution_count": 7,
      "outputs": []
    },
    {
      "cell_type": "markdown",
      "source": [
        "Определяем функцию для оценки точности сети"
      ],
      "metadata": {
        "id": "G5YFOi6JxawU"
      }
    },
    {
      "cell_type": "code",
      "source": [
        "def evaluate(net, dataloader):\n",
        "    correct = 0\n",
        "    total = 0\n",
        "    with torch.no_grad():\n",
        "        for data in dataloader:\n",
        "            inputs, labels = data[0].to(device), data[1].to(device)\n",
        "            outputs = net(inputs)\n",
        "            _, predicted = torch.max(outputs.data, 1)\n",
        "            total += labels.size(0)\n",
        "            correct += (predicted == labels).sum().item()\n",
        "    accuracy = 100 * correct / total\n",
        "    return accuracy"
      ],
      "metadata": {
        "id": "Hael_XSwxelP"
      },
      "execution_count": 8,
      "outputs": []
    },
    {
      "cell_type": "markdown",
      "source": [
        "Список оптимизаторов для сравнения"
      ],
      "metadata": {
        "id": "d5jSpnpLx5FF"
      }
    },
    {
      "cell_type": "code",
      "source": [
        "optimizers = ['SGD', 'SGD with momentum', 'Adagrad', 'Adadelta', 'RMSprop', 'Adam', 'Adamax']"
      ],
      "metadata": {
        "id": "yFzx62qsx8bo"
      },
      "execution_count": 9,
      "outputs": []
    },
    {
      "cell_type": "markdown",
      "source": [
        "Обучаем и оцениванием сеть для каждого оптимизатора"
      ],
      "metadata": {
        "id": "GOveUmqXyCxo"
      }
    },
    {
      "cell_type": "code",
      "source": [
        "df_results = pd.DataFrame(columns=['Optimizer', 'Time(s)', 'Accuracy(%)'])\n",
        "for optimizer_name in tqdm(optimizers):\n",
        "    print(f\"Training with {optimizer_name} optimizer...\")\n",
        "    \n",
        "    # Определяем нейронную сеть\n",
        "    net = Net()\n",
        "    net.to(device)\n",
        "\n",
        "    # Определяем функцию потерь и оптимизатор\n",
        "    criterion = torch.nn.CrossEntropyLoss()\n",
        "    if optimizer_name == 'SGD':\n",
        "      optimizer = torch.optim.SGD(net.parameters(), lr=0.01)\n",
        "    elif optimizer_name == 'SGD with momentum':\n",
        "      optimizer = torch.optim.SGD(net.parameters(), lr=0.01, momentum=0.9)\n",
        "    elif optimizer_name == 'Adagrad':\n",
        "      optimizer = torch.optim.Adagrad(net.parameters(), lr=0.01)\n",
        "    elif optimizer_name == 'Adadelta':\n",
        "      optimizer = torch.optim.Adadelta(net.parameters(), lr=0.01)\n",
        "    elif optimizer_name == 'RMSprop':\n",
        "      optimizer = torch.optim.RMSprop(net.parameters(), lr=0.01)\n",
        "    elif optimizer_name == 'Adam':\n",
        "      optimizer = torch.optim.Adam(net.parameters(), lr=0.01)\n",
        "    elif optimizer_name == 'Adamax':\n",
        "      optimizer = torch.optim.Adamax(net.parameters(), lr=0.01)\n",
        "\n",
        "    # Обучаем сеть и измеряем время\n",
        "    start_time = time.time()\n",
        "    train(net, optimizer, criterion, epochs=8)\n",
        "    end_time = time.time()\n",
        "    training_time = end_time - start_time\n",
        "\n",
        "    # Оцениваем точность сети на тестовом наборе\n",
        "    test_accuracy = evaluate(net, testloader)\n",
        "\n",
        "    # Сохраняем результаты\n",
        "    res = [optimizer_name, training_time, test_accuracy]\n",
        "    df_results.loc[len(df_results)] = res\n",
        "    print('\\n')\n",
        "    print('{:<20s}{:<20s}{:<20s}'.format('Optimizer', 'Training Time (s)', 'Test Accuracy (%)'))\n",
        "    print('{:<20s}{:<20.4f}{:<20.2f}'.format(optimizer_name, training_time, test_accuracy))\n",
        "    \n",
        "print('\\n')\n",
        "print(df_results)"
      ],
      "metadata": {
        "colab": {
          "base_uri": "https://localhost:8080/"
        },
        "id": "1WMH9yTTCd1G",
        "outputId": "53d08e77-cf86-49e5-aa4c-82e734d240dd"
      },
      "execution_count": 10,
      "outputs": [
        {
          "metadata": {
            "tags": null
          },
          "name": "stderr",
          "output_type": "stream",
          "text": [
            "\r  0%|          | 0/7 [00:00<?, ?it/s]"
          ]
        },
        {
          "metadata": {
            "tags": null
          },
          "name": "stdout",
          "output_type": "stream",
          "text": [
            "Training with SGD optimizer...\n",
            "[Epoch 1] loss: 1.266\n",
            "[Epoch 2] loss: 0.617\n",
            "[Epoch 3] loss: 0.524\n",
            "[Epoch 4] loss: 0.474\n",
            "[Epoch 5] loss: 0.441\n",
            "[Epoch 6] loss: 0.419\n",
            "[Epoch 7] loss: 0.401\n",
            "[Epoch 8] loss: 0.386\n"
          ]
        },
        {
          "metadata": {
            "tags": null
          },
          "name": "stderr",
          "output_type": "stream",
          "text": [
            "\r 14%|█▍        | 1/7 [02:11<13:06, 131.14s/it]"
          ]
        },
        {
          "metadata": {
            "tags": null
          },
          "name": "stdout",
          "output_type": "stream",
          "text": [
            "\n",
            "\n",
            "Optimizer           Training Time (s)   Test Accuracy (%)   \n",
            "SGD                 123.0685            84.97               \n",
            "Training with SGD with momentum optimizer...\n",
            "[Epoch 1] loss: 0.647\n",
            "[Epoch 2] loss: 0.406\n",
            "[Epoch 3] loss: 0.359\n",
            "[Epoch 4] loss: 0.333\n",
            "[Epoch 5] loss: 0.311\n",
            "[Epoch 6] loss: 0.293\n",
            "[Epoch 7] loss: 0.281\n",
            "[Epoch 8] loss: 0.266\n"
          ]
        },
        {
          "metadata": {
            "tags": null
          },
          "name": "stderr",
          "output_type": "stream",
          "text": [
            "\r 29%|██▊       | 2/7 [04:12<10:26, 125.23s/it]"
          ]
        },
        {
          "metadata": {
            "tags": null
          },
          "name": "stdout",
          "output_type": "stream",
          "text": [
            "\n",
            "\n",
            "Optimizer           Training Time (s)   Test Accuracy (%)   \n",
            "SGD with momentum   118.8189            86.87               \n",
            "Training with Adagrad optimizer...\n",
            "[Epoch 1] loss: 0.512\n",
            "[Epoch 2] loss: 0.370\n",
            "[Epoch 3] loss: 0.335\n",
            "[Epoch 4] loss: 0.313\n",
            "[Epoch 5] loss: 0.297\n",
            "[Epoch 6] loss: 0.284\n",
            "[Epoch 7] loss: 0.273\n",
            "[Epoch 8] loss: 0.264\n"
          ]
        },
        {
          "metadata": {
            "tags": null
          },
          "name": "stderr",
          "output_type": "stream",
          "text": [
            "\r 43%|████▎     | 3/7 [06:18<08:22, 125.68s/it]"
          ]
        },
        {
          "output_type": "stream",
          "name": "stdout",
          "text": [
            "\n",
            "\n",
            "Optimizer           Training Time (s)   Test Accuracy (%)   \n",
            "Adagrad             123.9715            87.44               \n",
            "Training with Adadelta optimizer...\n",
            "[Epoch 1] loss: 1.573\n",
            "[Epoch 2] loss: 0.751\n",
            "[Epoch 3] loss: 0.631\n",
            "[Epoch 4] loss: 0.578\n",
            "[Epoch 5] loss: 0.543\n",
            "[Epoch 6] loss: 0.517\n",
            "[Epoch 7] loss: 0.496\n",
            "[Epoch 8] loss: 0.480\n"
          ]
        },
        {
          "output_type": "stream",
          "name": "stderr",
          "text": [
            "\r 57%|█████▋    | 4/7 [08:19<06:11, 123.85s/it]"
          ]
        },
        {
          "output_type": "stream",
          "name": "stdout",
          "text": [
            "\n",
            "\n",
            "Optimizer           Training Time (s)   Test Accuracy (%)   \n",
            "Adadelta            118.7917            81.59               \n",
            "Training with RMSprop optimizer...\n",
            "[Epoch 1] loss: 1.671\n",
            "[Epoch 2] loss: 0.537\n",
            "[Epoch 3] loss: 0.503\n",
            "[Epoch 4] loss: 0.470\n",
            "[Epoch 5] loss: 0.479\n",
            "[Epoch 6] loss: 0.459\n",
            "[Epoch 7] loss: 0.457\n",
            "[Epoch 8] loss: 0.436\n"
          ]
        },
        {
          "output_type": "stream",
          "name": "stderr",
          "text": [
            "\r 71%|███████▏  | 5/7 [10:19<04:04, 122.39s/it]"
          ]
        },
        {
          "output_type": "stream",
          "name": "stdout",
          "text": [
            "\n",
            "\n",
            "Optimizer           Training Time (s)   Test Accuracy (%)   \n",
            "RMSprop             117.5868            83.77               \n",
            "Training with Adam optimizer...\n",
            "[Epoch 1] loss: 0.584\n",
            "[Epoch 2] loss: 0.466\n",
            "[Epoch 3] loss: 0.435\n",
            "[Epoch 4] loss: 0.418\n",
            "[Epoch 5] loss: 0.409\n",
            "[Epoch 6] loss: 0.412\n",
            "[Epoch 7] loss: 0.393\n",
            "[Epoch 8] loss: 0.396\n"
          ]
        },
        {
          "output_type": "stream",
          "name": "stderr",
          "text": [
            "\r 86%|████████▌ | 6/7 [12:20<02:01, 121.90s/it]"
          ]
        },
        {
          "output_type": "stream",
          "name": "stdout",
          "text": [
            "\n",
            "\n",
            "Optimizer           Training Time (s)   Test Accuracy (%)   \n",
            "Adam                118.6841            84.30               \n",
            "Training with Adamax optimizer...\n",
            "[Epoch 1] loss: 0.511\n",
            "[Epoch 2] loss: 0.376\n",
            "[Epoch 3] loss: 0.343\n",
            "[Epoch 4] loss: 0.322\n",
            "[Epoch 5] loss: 0.302\n",
            "[Epoch 6] loss: 0.288\n",
            "[Epoch 7] loss: 0.274\n",
            "[Epoch 8] loss: 0.261\n"
          ]
        },
        {
          "output_type": "stream",
          "name": "stderr",
          "text": [
            "100%|██████████| 7/7 [14:26<00:00, 123.76s/it]"
          ]
        },
        {
          "output_type": "stream",
          "name": "stdout",
          "text": [
            "\n",
            "\n",
            "Optimizer           Training Time (s)   Test Accuracy (%)   \n",
            "Adamax              123.8243            86.96               \n",
            "\n",
            "\n",
            "           Optimizer     Time(s)  Accuracy(%)\n",
            "0                SGD  123.068459        84.97\n",
            "1  SGD with momentum  118.818883        86.87\n",
            "2            Adagrad  123.971509        87.44\n",
            "3           Adadelta  118.791675        81.59\n",
            "4            RMSprop  117.586797        83.77\n",
            "5               Adam  118.684050        84.30\n",
            "6             Adamax  123.824324        86.96\n"
          ]
        },
        {
          "output_type": "stream",
          "name": "stderr",
          "text": [
            "\n"
          ]
        }
      ]
    },
    {
      "cell_type": "code",
      "source": [
        "df_results"
      ],
      "metadata": {
        "colab": {
          "base_uri": "https://localhost:8080/",
          "height": 269
        },
        "id": "r6hJd3l2WuBO",
        "outputId": "670bd003-c55d-4249-95a3-9c02b321d2aa"
      },
      "execution_count": 11,
      "outputs": [
        {
          "output_type": "execute_result",
          "data": {
            "text/plain": [
              "           Optimizer     Time(s)  Accuracy(%)\n",
              "0                SGD  123.068459        84.97\n",
              "1  SGD with momentum  118.818883        86.87\n",
              "2            Adagrad  123.971509        87.44\n",
              "3           Adadelta  118.791675        81.59\n",
              "4            RMSprop  117.586797        83.77\n",
              "5               Adam  118.684050        84.30\n",
              "6             Adamax  123.824324        86.96"
            ],
            "text/html": [
              "\n",
              "  <div id=\"df-ad952c33-ef1c-4bed-b1d8-b7f1a7117123\">\n",
              "    <div class=\"colab-df-container\">\n",
              "      <div>\n",
              "<style scoped>\n",
              "    .dataframe tbody tr th:only-of-type {\n",
              "        vertical-align: middle;\n",
              "    }\n",
              "\n",
              "    .dataframe tbody tr th {\n",
              "        vertical-align: top;\n",
              "    }\n",
              "\n",
              "    .dataframe thead th {\n",
              "        text-align: right;\n",
              "    }\n",
              "</style>\n",
              "<table border=\"1\" class=\"dataframe\">\n",
              "  <thead>\n",
              "    <tr style=\"text-align: right;\">\n",
              "      <th></th>\n",
              "      <th>Optimizer</th>\n",
              "      <th>Time(s)</th>\n",
              "      <th>Accuracy(%)</th>\n",
              "    </tr>\n",
              "  </thead>\n",
              "  <tbody>\n",
              "    <tr>\n",
              "      <th>0</th>\n",
              "      <td>SGD</td>\n",
              "      <td>123.068459</td>\n",
              "      <td>84.97</td>\n",
              "    </tr>\n",
              "    <tr>\n",
              "      <th>1</th>\n",
              "      <td>SGD with momentum</td>\n",
              "      <td>118.818883</td>\n",
              "      <td>86.87</td>\n",
              "    </tr>\n",
              "    <tr>\n",
              "      <th>2</th>\n",
              "      <td>Adagrad</td>\n",
              "      <td>123.971509</td>\n",
              "      <td>87.44</td>\n",
              "    </tr>\n",
              "    <tr>\n",
              "      <th>3</th>\n",
              "      <td>Adadelta</td>\n",
              "      <td>118.791675</td>\n",
              "      <td>81.59</td>\n",
              "    </tr>\n",
              "    <tr>\n",
              "      <th>4</th>\n",
              "      <td>RMSprop</td>\n",
              "      <td>117.586797</td>\n",
              "      <td>83.77</td>\n",
              "    </tr>\n",
              "    <tr>\n",
              "      <th>5</th>\n",
              "      <td>Adam</td>\n",
              "      <td>118.684050</td>\n",
              "      <td>84.30</td>\n",
              "    </tr>\n",
              "    <tr>\n",
              "      <th>6</th>\n",
              "      <td>Adamax</td>\n",
              "      <td>123.824324</td>\n",
              "      <td>86.96</td>\n",
              "    </tr>\n",
              "  </tbody>\n",
              "</table>\n",
              "</div>\n",
              "      <button class=\"colab-df-convert\" onclick=\"convertToInteractive('df-ad952c33-ef1c-4bed-b1d8-b7f1a7117123')\"\n",
              "              title=\"Convert this dataframe to an interactive table.\"\n",
              "              style=\"display:none;\">\n",
              "        \n",
              "  <svg xmlns=\"http://www.w3.org/2000/svg\" height=\"24px\"viewBox=\"0 0 24 24\"\n",
              "       width=\"24px\">\n",
              "    <path d=\"M0 0h24v24H0V0z\" fill=\"none\"/>\n",
              "    <path d=\"M18.56 5.44l.94 2.06.94-2.06 2.06-.94-2.06-.94-.94-2.06-.94 2.06-2.06.94zm-11 1L8.5 8.5l.94-2.06 2.06-.94-2.06-.94L8.5 2.5l-.94 2.06-2.06.94zm10 10l.94 2.06.94-2.06 2.06-.94-2.06-.94-.94-2.06-.94 2.06-2.06.94z\"/><path d=\"M17.41 7.96l-1.37-1.37c-.4-.4-.92-.59-1.43-.59-.52 0-1.04.2-1.43.59L10.3 9.45l-7.72 7.72c-.78.78-.78 2.05 0 2.83L4 21.41c.39.39.9.59 1.41.59.51 0 1.02-.2 1.41-.59l7.78-7.78 2.81-2.81c.8-.78.8-2.07 0-2.86zM5.41 20L4 18.59l7.72-7.72 1.47 1.35L5.41 20z\"/>\n",
              "  </svg>\n",
              "      </button>\n",
              "      \n",
              "  <style>\n",
              "    .colab-df-container {\n",
              "      display:flex;\n",
              "      flex-wrap:wrap;\n",
              "      gap: 12px;\n",
              "    }\n",
              "\n",
              "    .colab-df-convert {\n",
              "      background-color: #E8F0FE;\n",
              "      border: none;\n",
              "      border-radius: 50%;\n",
              "      cursor: pointer;\n",
              "      display: none;\n",
              "      fill: #1967D2;\n",
              "      height: 32px;\n",
              "      padding: 0 0 0 0;\n",
              "      width: 32px;\n",
              "    }\n",
              "\n",
              "    .colab-df-convert:hover {\n",
              "      background-color: #E2EBFA;\n",
              "      box-shadow: 0px 1px 2px rgba(60, 64, 67, 0.3), 0px 1px 3px 1px rgba(60, 64, 67, 0.15);\n",
              "      fill: #174EA6;\n",
              "    }\n",
              "\n",
              "    [theme=dark] .colab-df-convert {\n",
              "      background-color: #3B4455;\n",
              "      fill: #D2E3FC;\n",
              "    }\n",
              "\n",
              "    [theme=dark] .colab-df-convert:hover {\n",
              "      background-color: #434B5C;\n",
              "      box-shadow: 0px 1px 3px 1px rgba(0, 0, 0, 0.15);\n",
              "      filter: drop-shadow(0px 1px 2px rgba(0, 0, 0, 0.3));\n",
              "      fill: #FFFFFF;\n",
              "    }\n",
              "  </style>\n",
              "\n",
              "      <script>\n",
              "        const buttonEl =\n",
              "          document.querySelector('#df-ad952c33-ef1c-4bed-b1d8-b7f1a7117123 button.colab-df-convert');\n",
              "        buttonEl.style.display =\n",
              "          google.colab.kernel.accessAllowed ? 'block' : 'none';\n",
              "\n",
              "        async function convertToInteractive(key) {\n",
              "          const element = document.querySelector('#df-ad952c33-ef1c-4bed-b1d8-b7f1a7117123');\n",
              "          const dataTable =\n",
              "            await google.colab.kernel.invokeFunction('convertToInteractive',\n",
              "                                                     [key], {});\n",
              "          if (!dataTable) return;\n",
              "\n",
              "          const docLinkHtml = 'Like what you see? Visit the ' +\n",
              "            '<a target=\"_blank\" href=https://colab.research.google.com/notebooks/data_table.ipynb>data table notebook</a>'\n",
              "            + ' to learn more about interactive tables.';\n",
              "          element.innerHTML = '';\n",
              "          dataTable['output_type'] = 'display_data';\n",
              "          await google.colab.output.renderOutput(dataTable, element);\n",
              "          const docLink = document.createElement('div');\n",
              "          docLink.innerHTML = docLinkHtml;\n",
              "          element.appendChild(docLink);\n",
              "        }\n",
              "      </script>\n",
              "    </div>\n",
              "  </div>\n",
              "  "
            ]
          },
          "metadata": {},
          "execution_count": 11
        }
      ]
    }
  ]
}